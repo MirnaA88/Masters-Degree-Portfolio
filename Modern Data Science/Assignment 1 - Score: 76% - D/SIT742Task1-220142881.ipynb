{
 "cells": [
  {
   "cell_type": "markdown",
   "metadata": {
    "id": "3D514Ei_kSUS"
   },
   "source": [
    "# SIT742: Modern Data Science \n",
    "**(2021 Assessment Task 01 - Data Manipulation)**\n",
    "\n",
    "---\n",
    "- Please refer to the CloudDeakin for the detailed assessment requirements.\n",
    "- Please submit to Clouddeakin before the due date.\n",
    "- Students with difficulty in meeting the deadline because of illness, etc. must apply for an assignment extension (up to 3 days) no later than *12:00pm on 16/04/2021 (Friday)*.\n",
    "\n",
    "\n",
    "Prepared by **SIT742 Teaching Team**\n",
    "\n",
    "\n",
    "---\n",
    "\n",
    "<div class=\"alert alert-block alert-info\">\n",
    "Enter your information in the following cell. Please make sure you fill your Student ID and Name correctly.  \n",
    "</div>\n",
    "\n",
    "**Student Information:** Please fill your information below\n",
    "\n",
    "- Name:  Mirnalini Arivalagan\n",
    "- Student ID:  220142881\n",
    "- Email:  arivalaganm@deakin.edu.au\n",
    "- Lab Session and Tutor (for on campus students): \n",
    "\n",
    "---"
   ]
  },
  {
   "cell_type": "markdown",
   "metadata": {
    "id": "1X7L24t43CoU"
   },
   "source": [
    "# Part I - Web Log Data\n",
    "\n",
    "## Overview\n",
    "\n",
    "Hotel TULIP a five-star hotel located at Deakin University, and its CIO Dr Bear Guts has asked the Team-SIT742 team to analyse the weblogs files. As an employee for Hotel Tulip, working in the Information Technology Division, it is required to prepare a set of documentation for Team-SIT742 to allow them to understand the data being dealt with. Throughout this report, some source codes are to explore the weblog, which afterwards the information is presented to Dr Bear Guts in the format of a report.\n",
    "\n",
    "In this part, you are required to use give dataset to finish some required analysis, with the exploreation data analytics skills as well as visuilization skill.\n",
    "\n",
    "\n",
    "You will be required to complete the coding to answer the questions with a neat and clean format, and you must keep outputs for code. Your commenting and adherence to code standards will also be considered when marking. Further information on Python standards, please visit https://www.python.org/dev/peps/pep-0008/ \n",
    "\n",
    "\n",
    "**Note**: You are not necessary to stick to the partial code provided, and you can write your own code to implement the required tasks. But you should provide sufficient comments.\n"
   ]
  },
  {
   "cell_type": "markdown",
   "metadata": {
    "id": "r85LNibZkSUZ"
   },
   "source": [
    "\n",
    "\n",
    "## 1.  Data ETL"
   ]
  },
  {
   "cell_type": "markdown",
   "metadata": {
    "id": "HtL_9QR27_Iu"
   },
   "source": [
    "### 1.1 Data Loading"
   ]
  },
  {
   "cell_type": "code",
   "execution_count": 1,
   "metadata": {
    "id": "19EhpLspkSUZ"
   },
   "outputs": [],
   "source": [
    "import matplotlib.pyplot as plt\n",
    "import numpy as np\n",
    "import pandas as pd\n",
    "import time\n",
    "import datetime\n",
    "from scipy import stats\n",
    "import matplotlib\n",
    "import os\n",
    "import seaborn as sns\n"
   ]
  },
  {
   "cell_type": "markdown",
   "metadata": {
    "id": "jY2Br4cBN956"
   },
   "source": [
    " <div class=\"alert alert-block alert-info\">\n",
    "\n",
    "**Code**: \n",
    "    You are required to load Hotel TULIP data into dataframe df_ht and check how many files are loaded.\n",
    "    <br>\n",
    "    *Keep the outputs for code in your notebook.\n",
    "</div>\n",
    "\n"
   ]
  },
  {
   "cell_type": "markdown",
   "metadata": {},
   "source": [
    "1.1 Data Loading - Extract & Load Zipfiles into Data Frame"
   ]
  },
  {
   "cell_type": "code",
   "execution_count": 2,
   "metadata": {
    "id": "IIB_xH-hOqEj"
   },
   "outputs": [
    {
     "name": "stdout",
     "output_type": "stream",
     "text": [
      "['ex061101.log', 'ex061102.log', 'ex061103.log', 'ex061104.log', 'ex061105.log', 'ex061106.log', 'ex061107.log', 'ex061108.log', 'ex061109.log', 'ex061110.log', 'ex061111.log', 'ex061112.log', 'ex061113.log', 'ex061114.log', 'ex061115.log', 'ex061116.log', 'ex061117.log', 'ex061118.log', 'ex061119.log', 'ex061120.log', 'ex061121.log', 'ex061122.log', 'ex061123.log', 'ex061124.log', 'ex061125.log', 'ex061126.log', 'ex061127.log', 'ex061128.log', 'ex061129.log', 'ex061130.log', 'ex061201.log', 'ex061202.log', 'ex061203.log', 'ex061204.log', 'ex061205.log', 'ex061206.log', 'ex061207.log', 'ex061208.log', 'ex061209.log', 'ex061210.log', 'ex061211.log', 'ex061212.log', 'ex061213.log', 'ex061214.log', 'ex061215.log', 'ex061216.log', 'ex061217.log', 'ex061218.log', 'ex061219.log', 'ex061220.log', 'ex061221.log', 'ex061222.log', 'ex061223.log', 'ex061224.log', 'ex061225.log', 'ex061226.log', 'ex061227.log', 'ex061228.log', 'ex061229.log', 'ex061230.log', 'ex061231.log', 'ex070101.log', 'ex070102.log', 'ex070103.log', 'ex070104.log', 'ex070105.log', 'ex070106.log', 'ex070107.log', 'ex070108.log', 'ex070109.log', 'ex070110.log', 'ex070111.log', 'ex070112.log', 'ex070113.log', 'ex070114.log', 'ex070115.log', 'ex070116.log', 'ex070117.log', 'ex070118.log', 'ex070119.log', 'ex070120.log', 'ex070121.log', 'ex070122.log', 'ex070123.log', 'ex070124.log', 'ex070125.log', 'ex070126.log', 'ex070127.log', 'ex070128.log', 'ex070129.log', 'ex070130.log', 'ex070131.log', 'ex070201.log', 'ex070202.log', 'ex070203.log', 'ex070204.log', 'ex070205.log', 'ex070206.log', 'ex070207.log', 'ex070208.log', 'ex070209.log', 'ex070210.log', 'ex070211.log', 'ex070212.log', 'ex070213.log', 'ex070214.log', 'ex070215.log', 'ex070216.log', 'ex070217.log', 'ex070218.log', 'ex070219.log', 'ex070220.log', 'ex070221.log', 'ex070222.log', 'ex070223.log', 'ex070224.log', 'ex070225.log', 'ex070226.log', 'ex070227.log', 'ex070228.log']\n",
      "The number of files in directory is 120\n"
     ]
    }
   ],
   "source": [
    "from zipfile import ZipFile\n",
    "\n",
    "#Assign zip file to ZipF object\n",
    "zipF = \"HTWebLog_p1.zip\"\n",
    "\n",
    "#Extracting zipfile contents to subdirectory\n",
    "with ZipFile (zipF, 'r') as zip:\n",
    "    zip.extractall()\n",
    "    files = zip.namelist() #show names of files\n",
    "    print(files)\n",
    "    print(\"The number of files in directory is \" +str((len(files)))) #Count number of extracted log files"
   ]
  },
  {
   "cell_type": "code",
   "execution_count": 3,
   "metadata": {
    "scrolled": true
   },
   "outputs": [
    {
     "name": "stdout",
     "output_type": "stream",
     "text": [
      "<class 'pandas.core.frame.DataFrame'>\n",
      "RangeIndex: 8438928 entries, 0 to 8438927\n",
      "Data columns (total 15 columns):\n",
      " #   Column           Dtype  \n",
      "---  ------           -----  \n",
      " 0   date             object \n",
      " 1   time             object \n",
      " 2   s-sitename       object \n",
      " 3   s-ip             object \n",
      " 4   cs-method        object \n",
      " 5   cs-uri-stem      object \n",
      " 6   cs-uri-query     object \n",
      " 7   s-port           int64  \n",
      " 8   cs-username      object \n",
      " 9   c-ip             object \n",
      " 10  cs(User-Agent)   object \n",
      " 11  cs(Referer)      object \n",
      " 12  sc-status        float64\n",
      " 13  sc-substatus     float64\n",
      " 14  sc-win32-status  float64\n",
      "dtypes: float64(3), int64(1), object(11)\n",
      "memory usage: 965.8+ MB\n"
     ]
    }
   ],
   "source": [
    "#Step to load log file contents into DataFrame\n",
    "import pandas as pd\n",
    "from glob import glob as gg\n",
    "\n",
    "#creating empty dataframe to load log files into\n",
    "df_ht = pd.DataFrame()\n",
    "\n",
    "#creating loop to read all files with .log extension and read as cvs and then concatenate each log file into dataframe\n",
    "for file in gg('*.log'):\n",
    "    ht = pd.read_csv(file, encoding='iso-8859-1', \n",
    "                 comment='#', delimiter=' ', header=None, names=['date','time','s-sitename','s-ip','cs-method','cs-uri-stem','cs-uri-query','s-port','cs-username','c-ip','cs(User-Agent)','cs(Referer)','sc-status','sc-substatus','sc-win32-status'], engine='python', skiprows=4)\n",
    "    \n",
    "    df_ht = pd.concat([df_ht,ht], axis=0, ignore_index=True)\n",
    "\n",
    "#Check data frame contents\n",
    "\n",
    "\n",
    "df_ht.info()"
   ]
  },
  {
   "cell_type": "code",
   "execution_count": 4,
   "metadata": {
    "scrolled": true
   },
   "outputs": [
    {
     "data": {
      "text/html": [
       "<div>\n",
       "<style scoped>\n",
       "    .dataframe tbody tr th:only-of-type {\n",
       "        vertical-align: middle;\n",
       "    }\n",
       "\n",
       "    .dataframe tbody tr th {\n",
       "        vertical-align: top;\n",
       "    }\n",
       "\n",
       "    .dataframe thead th {\n",
       "        text-align: right;\n",
       "    }\n",
       "</style>\n",
       "<table border=\"1\" class=\"dataframe\">\n",
       "  <thead>\n",
       "    <tr style=\"text-align: right;\">\n",
       "      <th></th>\n",
       "      <th>date</th>\n",
       "      <th>time</th>\n",
       "      <th>s-sitename</th>\n",
       "      <th>s-ip</th>\n",
       "      <th>cs-method</th>\n",
       "      <th>cs-uri-stem</th>\n",
       "      <th>cs-uri-query</th>\n",
       "      <th>s-port</th>\n",
       "      <th>cs-username</th>\n",
       "      <th>c-ip</th>\n",
       "      <th>cs(User-Agent)</th>\n",
       "      <th>cs(Referer)</th>\n",
       "      <th>sc-status</th>\n",
       "      <th>sc-substatus</th>\n",
       "      <th>sc-win32-status</th>\n",
       "    </tr>\n",
       "  </thead>\n",
       "  <tbody>\n",
       "    <tr>\n",
       "      <th>8438923</th>\n",
       "      <td>2007-02-28</td>\n",
       "      <td>23:59:57</td>\n",
       "      <td>W3SVC1</td>\n",
       "      <td>127.0.0.1</td>\n",
       "      <td>GET</td>\n",
       "      <td>/Tulip/common/en-us/images/sectionbanner_green...</td>\n",
       "      <td>-</td>\n",
       "      <td>80</td>\n",
       "      <td>-</td>\n",
       "      <td>74.110.32.161</td>\n",
       "      <td>Mozilla/4.0+(compatible;+MSIE+6.0;+Windows+NT+...</td>\n",
       "      <td>http://www.hotelTulip.com.hk/Tulip/home/en-us/...</td>\n",
       "      <td>200.0</td>\n",
       "      <td>0.0</td>\n",
       "      <td>0.0</td>\n",
       "    </tr>\n",
       "    <tr>\n",
       "      <th>8438924</th>\n",
       "      <td>2007-02-28</td>\n",
       "      <td>23:59:57</td>\n",
       "      <td>W3SVC1</td>\n",
       "      <td>127.0.0.1</td>\n",
       "      <td>GET</td>\n",
       "      <td>/Tulip/common/en-us/images/sectionbanner_recru...</td>\n",
       "      <td>-</td>\n",
       "      <td>80</td>\n",
       "      <td>-</td>\n",
       "      <td>74.110.32.161</td>\n",
       "      <td>Mozilla/4.0+(compatible;+MSIE+6.0;+Windows+NT+...</td>\n",
       "      <td>http://www.hotelTulip.com.hk/Tulip/home/en-us/...</td>\n",
       "      <td>200.0</td>\n",
       "      <td>0.0</td>\n",
       "      <td>0.0</td>\n",
       "    </tr>\n",
       "    <tr>\n",
       "      <th>8438925</th>\n",
       "      <td>2007-02-28</td>\n",
       "      <td>23:59:57</td>\n",
       "      <td>W3SVC1</td>\n",
       "      <td>127.0.0.1</td>\n",
       "      <td>GET</td>\n",
       "      <td>/Tulip/home/en-us/images/awards.jpg</td>\n",
       "      <td>-</td>\n",
       "      <td>80</td>\n",
       "      <td>-</td>\n",
       "      <td>74.110.32.161</td>\n",
       "      <td>Mozilla/4.0+(compatible;+MSIE+6.0;+Windows+NT+...</td>\n",
       "      <td>http://www.hotelTulip.com.hk/Tulip/home/en-us/...</td>\n",
       "      <td>200.0</td>\n",
       "      <td>0.0</td>\n",
       "      <td>0.0</td>\n",
       "    </tr>\n",
       "    <tr>\n",
       "      <th>8438926</th>\n",
       "      <td>2007-02-28</td>\n",
       "      <td>23:59:57</td>\n",
       "      <td>W3SVC1</td>\n",
       "      <td>127.0.0.1</td>\n",
       "      <td>GET</td>\n",
       "      <td>/Tulip/common/en-us/images/bottom.jpg</td>\n",
       "      <td>-</td>\n",
       "      <td>80</td>\n",
       "      <td>-</td>\n",
       "      <td>74.110.32.161</td>\n",
       "      <td>Mozilla/4.0+(compatible;+MSIE+6.0;+Windows+NT+...</td>\n",
       "      <td>http://www.hotelTulip.com.hk/Tulip/home/en-us/...</td>\n",
       "      <td>200.0</td>\n",
       "      <td>0.0</td>\n",
       "      <td>0.0</td>\n",
       "    </tr>\n",
       "    <tr>\n",
       "      <th>8438927</th>\n",
       "      <td>2007-03-01</td>\n",
       "      <td>00:00:00</td>\n",
       "      <td>W3SVC1</td>\n",
       "      <td>127.0.0.1</td>\n",
       "      <td>GET</td>\n",
       "      <td>/Tulip/common/en-us/images/sectionbanner_accom...</td>\n",
       "      <td>-</td>\n",
       "      <td>80</td>\n",
       "      <td>-</td>\n",
       "      <td>74.110.32.161</td>\n",
       "      <td>Mozilla/4.0+(compatible;+MSIE+6.0;+Windows+NT+...</td>\n",
       "      <td>http://www.hotelTulip.com.hk/Tulip/home/en-us/...</td>\n",
       "      <td>200.0</td>\n",
       "      <td>0.0</td>\n",
       "      <td>0.0</td>\n",
       "    </tr>\n",
       "  </tbody>\n",
       "</table>\n",
       "</div>"
      ],
      "text/plain": [
       "               date      time s-sitename       s-ip cs-method  \\\n",
       "8438923  2007-02-28  23:59:57     W3SVC1  127.0.0.1       GET   \n",
       "8438924  2007-02-28  23:59:57     W3SVC1  127.0.0.1       GET   \n",
       "8438925  2007-02-28  23:59:57     W3SVC1  127.0.0.1       GET   \n",
       "8438926  2007-02-28  23:59:57     W3SVC1  127.0.0.1       GET   \n",
       "8438927  2007-03-01  00:00:00     W3SVC1  127.0.0.1       GET   \n",
       "\n",
       "                                               cs-uri-stem cs-uri-query  \\\n",
       "8438923  /Tulip/common/en-us/images/sectionbanner_green...            -   \n",
       "8438924  /Tulip/common/en-us/images/sectionbanner_recru...            -   \n",
       "8438925                /Tulip/home/en-us/images/awards.jpg            -   \n",
       "8438926              /Tulip/common/en-us/images/bottom.jpg            -   \n",
       "8438927  /Tulip/common/en-us/images/sectionbanner_accom...            -   \n",
       "\n",
       "         s-port cs-username           c-ip  \\\n",
       "8438923      80           -  74.110.32.161   \n",
       "8438924      80           -  74.110.32.161   \n",
       "8438925      80           -  74.110.32.161   \n",
       "8438926      80           -  74.110.32.161   \n",
       "8438927      80           -  74.110.32.161   \n",
       "\n",
       "                                            cs(User-Agent)  \\\n",
       "8438923  Mozilla/4.0+(compatible;+MSIE+6.0;+Windows+NT+...   \n",
       "8438924  Mozilla/4.0+(compatible;+MSIE+6.0;+Windows+NT+...   \n",
       "8438925  Mozilla/4.0+(compatible;+MSIE+6.0;+Windows+NT+...   \n",
       "8438926  Mozilla/4.0+(compatible;+MSIE+6.0;+Windows+NT+...   \n",
       "8438927  Mozilla/4.0+(compatible;+MSIE+6.0;+Windows+NT+...   \n",
       "\n",
       "                                               cs(Referer)  sc-status  \\\n",
       "8438923  http://www.hotelTulip.com.hk/Tulip/home/en-us/...      200.0   \n",
       "8438924  http://www.hotelTulip.com.hk/Tulip/home/en-us/...      200.0   \n",
       "8438925  http://www.hotelTulip.com.hk/Tulip/home/en-us/...      200.0   \n",
       "8438926  http://www.hotelTulip.com.hk/Tulip/home/en-us/...      200.0   \n",
       "8438927  http://www.hotelTulip.com.hk/Tulip/home/en-us/...      200.0   \n",
       "\n",
       "         sc-substatus  sc-win32-status  \n",
       "8438923           0.0              0.0  \n",
       "8438924           0.0              0.0  \n",
       "8438925           0.0              0.0  \n",
       "8438926           0.0              0.0  \n",
       "8438927           0.0              0.0  "
      ]
     },
     "execution_count": 4,
     "metadata": {},
     "output_type": "execute_result"
    }
   ],
   "source": [
    "df_ht.tail()"
   ]
  },
  {
   "cell_type": "markdown",
   "metadata": {
    "id": "Dyt9lwm_QKFV"
   },
   "source": [
    " <div class=\"alert alert-block alert-info\">\n",
    "\n",
    "**Code**: \n",
    "    Check the data statistics and general information by printing its top 5 rows.\n",
    "    <br>\n",
    "    *Keep the outputs for code in your notebook.\n",
    "</div>\n",
    "\n",
    "<div class=\"alert alert-block alert-warning\">\n",
    "    \n",
    "**Report**: \n",
    "    **Part I 1.1** Please include your result for this coding task into your SIT742-DataDictionary.xlsx, then add to your report - Part I with proper section title '1.1.1' and '1.1.2'.\n",
    "</div>\n",
    "    </div>\n"
   ]
  },
  {
   "cell_type": "markdown",
   "metadata": {},
   "source": [
    "1.1 Data Dictionary - check attribute data type and convert date & time"
   ]
  },
  {
   "cell_type": "code",
   "execution_count": 5,
   "metadata": {
    "id": "1h7LqSGgQRUb",
    "scrolled": true
   },
   "outputs": [
    {
     "name": "stdout",
     "output_type": "stream",
     "text": [
      "<class 'pandas.core.frame.DataFrame'>\n",
      "RangeIndex: 8438928 entries, 0 to 8438927\n",
      "Data columns (total 16 columns):\n",
      " #   Column           Dtype         \n",
      "---  ------           -----         \n",
      " 0   date             datetime64[ns]\n",
      " 1   time             datetime64[ns]\n",
      " 2   s-sitename       object        \n",
      " 3   s-ip             object        \n",
      " 4   cs-method        object        \n",
      " 5   cs-uri-stem      object        \n",
      " 6   cs-uri-query     object        \n",
      " 7   s-port           int64         \n",
      " 8   cs-username      object        \n",
      " 9   c-ip             object        \n",
      " 10  cs(User-Agent)   object        \n",
      " 11  cs(Referer)      object        \n",
      " 12  sc-status        float64       \n",
      " 13  sc-substatus     float64       \n",
      " 14  sc-win32-status  float64       \n",
      " 15  hour             int64         \n",
      "dtypes: datetime64[ns](2), float64(3), int64(2), object(9)\n",
      "memory usage: 1.0+ GB\n"
     ]
    }
   ],
   "source": [
    "#Change date and time to datetime type and create new column hour based on time\n",
    "df_ht['date'] = pd.to_datetime(df_ht['date'], format='%Y-%m-%d')#convert date from string to datetime object\n",
    "\n",
    "df_ht['time'] = pd.to_datetime(df_ht['time'], format='%H:%M:%S') #convert to datetime object\n",
    "\n",
    "df_ht['hour'] = pd.to_datetime(df_ht['time']).dt.hour #Add new hour column\n",
    "\n",
    "df_ht #Check if data type conversion is successful\n",
    "\n",
    "df_ht.info()\n",
    "\n",
    "\n"
   ]
  },
  {
   "cell_type": "markdown",
   "metadata": {
    "id": "jDUDzs7lkSUa"
   },
   "source": [
    "### 1.2 Data Cleaning"
   ]
  },
  {
   "cell_type": "markdown",
   "metadata": {
    "id": "En0WOURqp7dB"
   },
   "source": [
    "#### Remove all NAs from data"
   ]
  },
  {
   "cell_type": "markdown",
   "metadata": {
    "id": "Efxzawa7Xdv9"
   },
   "source": [
    "\n",
    "<div class=\"alert alert-block alert-warning\">\n",
    "\n",
    "**Code**: \n",
    "    1. Check which columns have NAs, <br>\n",
    "    2. For each of those columns, display the number of NA records, <br> \n",
    "    3. emove all records with any NAs.\n",
    "    <br>\n",
    "    *Keep the outputs for code in your notebook.\n",
    "</div> \n",
    "\n",
    "<div class=\"alert alert-block alert-warning\">\n",
    "    \n",
    "**Report**: \n",
    "    **Part I 1.2** Please include your result for this coding task into your report Part I, with proper section title '1.2'.\n",
    "</div>\n",
    "    </div>\n"
   ]
  },
  {
   "cell_type": "markdown",
   "metadata": {},
   "source": [
    "1.2 Data Cleansing - Identify missing values and Remove missing values"
   ]
  },
  {
   "cell_type": "code",
   "execution_count": 6,
   "metadata": {
    "id": "GX3BeD361pTw"
   },
   "outputs": [
    {
     "name": "stdout",
     "output_type": "stream",
     "text": [
      "date                     0\n",
      "time                     0\n",
      "s-sitename               0\n",
      "s-ip                     0\n",
      "cs-method                0\n",
      "cs-uri-stem              0\n",
      "cs-uri-query       7886532\n",
      "s-port                   0\n",
      "cs-username        8438928\n",
      "c-ip                     0\n",
      "cs(User-Agent)        3527\n",
      "cs(Referer)        1309656\n",
      "sc-status              756\n",
      "sc-substatus           756\n",
      "sc-win32-status        756\n",
      "hour                     0\n",
      "dtype: int64\n"
     ]
    }
   ],
   "source": [
    "df_ht = df_ht.replace(\"-\", np.nan) #replace hyphen as null value\n",
    "df_ht = df_ht.replace(\"None\", np.nan) #replace None as null value\n",
    "print(df_ht.isnull().sum()) #calculate total null values by attributes"
   ]
  },
  {
   "cell_type": "code",
   "execution_count": 7,
   "metadata": {},
   "outputs": [
    {
     "name": "stdout",
     "output_type": "stream",
     "text": [
      "                     column_name  percent_missing\n",
      "date                        date             0.00\n",
      "time                        time             0.00\n",
      "s-sitename            s-sitename             0.00\n",
      "s-ip                        s-ip             0.00\n",
      "cs-method              cs-method             0.00\n",
      "cs-uri-stem          cs-uri-stem             0.00\n",
      "cs-uri-query        cs-uri-query            93.45\n",
      "s-port                    s-port             0.00\n",
      "cs-username          cs-username           100.00\n",
      "c-ip                        c-ip             0.00\n",
      "cs(User-Agent)    cs(User-Agent)             0.04\n",
      "cs(Referer)          cs(Referer)            15.51\n",
      "sc-status              sc-status             0.01\n",
      "sc-substatus        sc-substatus             0.01\n",
      "sc-win32-status  sc-win32-status             0.01\n",
      "hour                        hour             0.00\n"
     ]
    }
   ],
   "source": [
    "#Calculcate Missing Value %\n",
    "missing_values = df_ht.isin([np.nan])\n",
    "\n",
    "percent_missing = missing_values.sum() * 100 / len(df_ht) #sum all missing value and divide by number of rows in data frame\n",
    "\n",
    "#create new missing value data frame to review missing value percentages\n",
    "missing_value_df = pd.DataFrame({'column_name': df_ht.columns,\n",
    "                                 'percent_missing': percent_missing})\n",
    "\n",
    "print(missing_value_df.round(2)) #Identify columns with missing value %"
   ]
  },
  {
   "cell_type": "code",
   "execution_count": 8,
   "metadata": {},
   "outputs": [
    {
     "name": "stdout",
     "output_type": "stream",
     "text": [
      "<class 'pandas.core.frame.DataFrame'>\n",
      "RangeIndex: 8438928 entries, 0 to 8438927\n",
      "Data columns (total 13 columns):\n",
      " #   Column           Dtype         \n",
      "---  ------           -----         \n",
      " 0   date             datetime64[ns]\n",
      " 1   time             datetime64[ns]\n",
      " 2   s-sitename       object        \n",
      " 3   s-ip             object        \n",
      " 4   cs-method        object        \n",
      " 5   cs-uri-stem      object        \n",
      " 6   s-port           int64         \n",
      " 7   c-ip             object        \n",
      " 8   cs(User-Agent)   object        \n",
      " 9   sc-status        float64       \n",
      " 10  sc-substatus     float64       \n",
      " 11  sc-win32-status  float64       \n",
      " 12  hour             int64         \n",
      "dtypes: datetime64[ns](2), float64(3), int64(2), object(6)\n",
      "memory usage: 837.0+ MB\n",
      "The number of all rows including NaN is 8438928\n"
     ]
    }
   ],
   "source": [
    "#drop columns with missing values more than 15% and load to new data frame named df_ht2\n",
    "\n",
    "df_ht2 = pd.DataFrame(df_ht.drop(['cs-uri-query', 'cs-username', 'cs(Referer)'], axis=1))\n",
    "\n",
    "df_ht2.info()\n",
    "\n",
    "#Print number of rows including missing values\n",
    "print(\"The number of all rows including NaN is \" + str(len(df_ht2)))\n"
   ]
  },
  {
   "cell_type": "code",
   "execution_count": 9,
   "metadata": {},
   "outputs": [
    {
     "name": "stdout",
     "output_type": "stream",
     "text": [
      "The number of all rows excluding NaN is 8434645\n"
     ]
    }
   ],
   "source": [
    "#drop rows that contains NaNs\n",
    "df_ht2 = df_ht2.dropna(axis = 0)\n",
    "\n",
    "#Print number of rows after removing rows containing missing values\n",
    "print(\"The number of all rows excluding NaN is \" + str(len(df_ht2)))"
   ]
  },
  {
   "cell_type": "markdown",
   "metadata": {
    "id": "mq3sWOXtrZhF"
   },
   "source": [
    "## 2. Data Statistics Description"
   ]
  },
  {
   "cell_type": "markdown",
   "metadata": {
    "id": "BJuh1nsirmOy"
   },
   "source": [
    "### 2.1 Traffic Analysis"
   ]
  },
  {
   "cell_type": "markdown",
   "metadata": {
    "id": "vzey2OZygD8u"
   },
   "source": [
    "\n",
    "<div class=\"alert alert-block alert-warning\">\n",
    "\n",
    "**Code**: \n",
    "    Discover on the traffics by analysing hourly requests, then plot it into Bar Chart.\n",
    "    <br>\n",
    "    *Keep the outputs for code in your notebook.\n",
    "</div> \n",
    "\n",
    "<div class=\"alert alert-block alert-warning\">\n",
    "    \n",
    "**Report**: \n",
    "    **Part I 2.1.A** Please include your result for this coding task into your report Part I, with proper section title '2.1.A'.\n",
    "</div>\n",
    "    </div>\n"
   ]
  },
  {
   "cell_type": "markdown",
   "metadata": {
    "id": "EpEeaqZtxIZg"
   },
   "source": [
    "#### By day and plot \n",
    "\n"
   ]
  },
  {
   "cell_type": "markdown",
   "metadata": {},
   "source": [
    "2.1 Hourly Server Requests"
   ]
  },
  {
   "cell_type": "code",
   "execution_count": 10,
   "metadata": {
    "id": "DAH1IrWbfQQW"
   },
   "outputs": [
    {
     "data": {
      "image/png": "[encoded data removed]",
      "text/plain": [
       "<Figure size 864x288 with 1 Axes>"
      ]
     },
     "metadata": {
      "needs_background": "light"
     },
     "output_type": "display_data"
    }
   ],
   "source": [
    "plt.figure(figsize=(12,4)) #Set width and height\n",
    "barp = sns.countplot(data=df_ht2, x ='hour') #seaborn countplot to plot bar chart based on number of rows for each hour\n",
    "\n",
    "plt.title('Number of requests by hour') #set plot title\n",
    "plt.ylabel('Total Request', fontsize=12) #set yaxis title\n",
    "plt.xlabel('Hour', fontsize=12) #set x axis title\n",
    "plt.show()"
   ]
  },
  {
   "cell_type": "markdown",
   "metadata": {
    "id": "aFEJDPvEy8ZR"
   },
   "source": [
    "\n",
    "<div class=\"alert alert-block alert-warning\">\n",
    "\n",
    "**Code**: \n",
    "    You are required to filter the hourly requests by removing any below 490,000 and above 400,000. (hourly_request_amount >= 400000 & hourly_request_amount <= 490000)    \n",
    "    <br>\n",
    "    *Keep the outputs for code in your notebook.\n",
    "</div> \n",
    "\n",
    "<div class=\"alert alert-block alert-warning\">\n",
    "    \n",
    "**Report**: \n",
    "    **Part I 2.1.B** Please include your result for this coding task into your report, with proper section title '2.1.B'.\n",
    "</div>\n",
    "    </div>\n"
   ]
  },
  {
   "cell_type": "code",
   "execution_count": 11,
   "metadata": {
    "id": "TLArAkrH0rig"
   },
   "outputs": [
    {
     "name": "stdout",
     "output_type": "stream",
     "text": [
      "Table of hours with number of requests >=400,000 and <= 490,000\n",
      "hour\n",
      "2     432289\n",
      "5     487306\n",
      "10    443413\n",
      "13    442414\n",
      "15    472843\n",
      "Name: hour, dtype: int64\n"
     ]
    }
   ],
   "source": [
    "#Filter requests >=400,000 and <= 490,000\n",
    "\n",
    "df_filter = df_ht2.groupby('hour').filter(lambda x: len(x) >=400000 and len(x) <=490000) #Filter hourly requests\n",
    "\n",
    "df_filter.tail() #check\n",
    "\n",
    "table = df_filter.groupby('hour')['hour'].count() #Group by hourly request of filtered results to see counts\n",
    "\n",
    "print(\"Table of hours with number of requests >=400,000 and <= 490,000\")\n",
    "print(table) #filtered hourly requests summarized"
   ]
  },
  {
   "cell_type": "code",
   "execution_count": 12,
   "metadata": {},
   "outputs": [
    {
     "data": {
      "image/png": "[encoded data removed]",
      "text/plain": [
       "<Figure size 576x360 with 1 Axes>"
      ]
     },
     "metadata": {
      "needs_background": "light"
     },
     "output_type": "display_data"
    }
   ],
   "source": [
    "#plot bar chart for filtered requests\n",
    "plt.figure(figsize=(8,5))#Set width and height\n",
    "barp2 = sns.countplot(data=df_filter, x ='hour',palette=\"Set2\")\n",
    "\n",
    "plt.title('Total Requests between 400,000 and 490,000 by hour')\n",
    "plt.ylabel('Total Request', fontsize=14)\n",
    "plt.xlabel('Hour', fontsize=14)\n",
    "plt.show()"
   ]
  },
  {
   "cell_type": "markdown",
   "metadata": {
    "id": "xwKZ2IAr9IR_"
   },
   "source": [
    "### 2.2 Server Analysis"
   ]
  },
  {
   "cell_type": "markdown",
   "metadata": {
    "id": "n2sojLZStPBh"
   },
   "source": [
    "<div class=\"alert alert-block alert-warning\">\n",
    "\n",
    "**Code**: \n",
    "    Discover on the server status using 'sc-status' from DataFrame, then plot it into Pie Chart. <br>\n",
    "    *Keep the outputs for code in your notebook.\n",
    "</div> \n",
    "\n",
    "<div class=\"alert alert-block alert-warning\">\n",
    "    \n",
    "**Report**: \n",
    "    **Part I 2.2** Please include your results for this coding task into your report Part I section '2.2', <br>\n",
    "    1. How many types of status reported? <br>\n",
    "    2. Figure 'Server Status' in pie chart. <br>\n",
    "</div>"
   ]
  },
  {
   "cell_type": "markdown",
   "metadata": {
    "id": "jOy7bisdx6iB"
   },
   "source": [
    "#### Server Status"
   ]
  },
  {
   "cell_type": "markdown",
   "metadata": {},
   "source": [
    "2.2 Server Status Analysis"
   ]
  },
  {
   "cell_type": "code",
   "execution_count": 13,
   "metadata": {
    "id": "9nVWlMSXrHQg"
   },
   "outputs": [
    {
     "data": {
      "text/plain": [
       "sc-status\n",
       "200.0    6071931\n",
       "304.0    2136775\n",
       "404.0     142578\n",
       "206.0      72469\n",
       "302.0       7366\n",
       "500.0       2013\n",
       "403.0        700\n",
       "301.0        433\n",
       "400.0        210\n",
       "501.0        113\n",
       "406.0         54\n",
       "416.0          3\n",
       "Name: sc-status, dtype: int64"
      ]
     },
     "execution_count": 13,
     "metadata": {},
     "output_type": "execute_result"
    }
   ],
   "source": [
    "#Server status analysis\n",
    "table2 = df_ht2.groupby('sc-status')['sc-status'].count() #Group by hourly request of filtered results to see counts\n",
    "\n",
    "table2.sort_values(ascending= False) #counts by sc-status sorted from largest to smallest"
   ]
  },
  {
   "cell_type": "code",
   "execution_count": 14,
   "metadata": {},
   "outputs": [
    {
     "data": {
      "text/plain": [
       "Text(0.5, 1.0, 'SC-Status Summary')"
      ]
     },
     "execution_count": 14,
     "metadata": {},
     "output_type": "execute_result"
    },
    {
     "data": {
      "image/png": "[encoded data removed]",
      "text/plain": [
       "<Figure size 720x720 with 1 Axes>"
      ]
     },
     "metadata": {},
     "output_type": "display_data"
    }
   ],
   "source": [
    "#plot sc-status pie chart\n",
    "labels = [200,304,404,206,302,500,403,301,400,501,406,416] #assign labels based on table above\n",
    "\n",
    "explode = [0,0,0.5,0.7,0.6,0.8,0,0,0,0,0,0]\n",
    "\n",
    "df_ht2['sc-status'].value_counts().plot(kind=\"pie\", figsize=(10,10), autopct='%.2f',textprops={'fontsize': 12}, \n",
    "                                labels=None, pctdistance=1.2, explode=explode) #plot pie chart based on the number of instances of each sc-status type\n",
    "plt.ylabel(\"\")\n",
    "plt.xticks(rotation=30, horizontalalignment=\"center\")\n",
    "plt.legend(labels, loc=\"upper right\", title='sc-status', bbox_to_anchor=(0.1,1), fontsize=20, title_fontsize=18)#add and format legend position\n",
    "plt.title(\"SC-Status Summary\", fontsize=20)"
   ]
  },
  {
   "cell_type": "markdown",
   "metadata": {
    "id": "bxT49TgGpwrw"
   },
   "source": [
    "### 2.3 Geographic Analysis"
   ]
  },
  {
   "cell_type": "markdown",
   "metadata": {
    "id": "MpEve4Zgvtc9"
   },
   "source": [
    "Clinet's IP addresses can reflect geographic information. Since different IP are from different countries even citys, we can find out the demographics information from them. You may use **DbIpCity** from **ip2geotools** to find the geolocation information from given IPs.\n",
    "\n",
    "**Notes:**\n",
    "There are some attributes in ip2geotools can help: <br>\n",
    "*ip_address*: IP address <br>\n",
    "*city*: city where IP address is located <br>\n",
    "*region*: region where IP address is located <br>\n",
    "*country*: country where IP address is located (two letters country code) <br>"
   ]
  },
  {
   "cell_type": "markdown",
   "metadata": {
    "id": "AvUQUKGCqLhJ"
   },
   "source": [
    "#### 2.3.A Requests by Country\n",
    "<div class=\"alert alert-block alert-warning\">\n",
    "\n",
    "**Code**: \n",
    "    Build your code with the following requirements <br>\n",
    "    1. Select all requests at 01 Jan 2007 from 20:00:00 pm to 20:59:59. <br>\n",
    "    2. Discover on the demographics by analysing requests from country level. <br>\n",
    "    3. Plot countries of all requests in pie chart. <br>\n",
    "    4. List top 3 with the numbers of requests. <br>\n",
    "    *Keep the outputs for code in your notebook.\n",
    "</div> \n",
    "\n",
    "<div class=\"alert alert-block alert-warning\">\n",
    "    \n",
    "**Report**: \n",
    "    **Part I 2.3.A** Please include your results for this coding task into your report Part I section '2.3.A', <br>\n",
    "    1. How many requests raised in the period of time? <br>\n",
    "    2. How many countries are invlolved? <br>\n",
    "    3. Figure 'Request by Country' in pie chart. <br>\n",
    "    4. top 3 countries with request numbers. <br>\n",
    "</div>"
   ]
  },
  {
   "cell_type": "code",
   "execution_count": 15,
   "metadata": {
    "id": "g1UvjRlOVjy0"
   },
   "outputs": [
    {
     "name": "stdout",
     "output_type": "stream",
     "text": [
      "Collecting ip2geotools\n",
      "  Using cached ip2geotools-0.1.5-py3-none-any.whl (16 kB)\n",
      "Requirement already satisfied: wrapt>=1.10.11 in c:\\users\\mirna\\.conda\\lib\\site-packages (from ip2geotools) (1.11.2)\n",
      "Collecting geocoder>=1.38.1\n",
      "  Using cached geocoder-1.38.1-py2.py3-none-any.whl (98 kB)\n",
      "Requirement already satisfied: pkginfo>=1.4.2 in c:\\users\\mirna\\.conda\\lib\\site-packages (from ip2geotools) (1.6.1)\n",
      "Requirement already satisfied: chardet>=3.0.4 in c:\\users\\mirna\\.conda\\lib\\site-packages (from ip2geotools) (3.0.4)\n",
      "Collecting pyquery>=1.4.0\n",
      "  Using cached pyquery-1.4.3-py3-none-any.whl (22 kB)\n",
      "Requirement already satisfied: urllib3>=1.24.1 in c:\\users\\mirna\\.conda\\lib\\site-packages (from ip2geotools) (1.25.11)\n",
      "Collecting selenium>=3.141.0\n",
      "  Using cached selenium-3.141.0-py2.py3-none-any.whl (904 kB)\n",
      "Requirement already satisfied: isort>=4.3.4 in c:\\users\\mirna\\.conda\\lib\\site-packages (from ip2geotools) (5.6.4)\n",
      "Collecting typed-ast>=1.1.0\n",
      "  Using cached typed_ast-1.4.3-cp38-cp38-win_amd64.whl (158 kB)\n",
      "Processing c:\\users\\mirna\\appdata\\local\\pip\\cache\\wheels\\5e\\5d\\01\\3083e091b57809dad979ea543def62d9d878950e3e74f0c930\\typing-3.7.4.3-py3-none-any.whl\n",
      "Requirement already satisfied: future>=0.17.1 in c:\\users\\mirna\\.conda\\lib\\site-packages (from ip2geotools) (0.18.2)\n",
      "Requirement already satisfied: six>=1.11.0 in c:\\users\\mirna\\.conda\\lib\\site-packages (from ip2geotools) (1.15.0)\n",
      "Collecting IP2Location>=8.0.3\n",
      "  Using cached IP2Location-8.5.1-py3-none-any.whl (9.1 kB)\n",
      "Requirement already satisfied: mccabe>=0.6.1 in c:\\users\\mirna\\.conda\\lib\\site-packages (from ip2geotools) (0.6.1)\n",
      "Requirement already satisfied: webencodings>=0.5.1 in c:\\users\\mirna\\.conda\\lib\\site-packages (from ip2geotools) (0.5.1)\n",
      "Requirement already satisfied: bleach>=3.0.2 in c:\\users\\mirna\\.conda\\lib\\site-packages (from ip2geotools) (3.2.1)\n",
      "Processing c:\\users\\mirna\\appdata\\local\\pip\\cache\\wheels\\6c\\32\\1d\\09f338b837cdbb71f8889b866d50db3e0eaa02b8fc2be4c943\\dicttoxml-1.7.4-py3-none-any.whl\n",
      "Requirement already satisfied: lxml>=4.2.5 in c:\\users\\mirna\\.conda\\lib\\site-packages (from ip2geotools) (4.6.1)\n",
      "Requirement already satisfied: decorator>=4.3.0 in c:\\users\\mirna\\.conda\\lib\\site-packages (from ip2geotools) (4.4.2)\n",
      "Requirement already satisfied: certifi>=2018.10.15 in c:\\users\\mirna\\.conda\\lib\\site-packages (from ip2geotools) (2020.6.20)\n",
      "Requirement already satisfied: Click>=7.0 in c:\\users\\mirna\\.conda\\lib\\site-packages (from ip2geotools) (7.1.2)\n",
      "Processing c:\\users\\mirna\\appdata\\local\\pip\\cache\\wheels\\33\\3d\\d8\\ba39935b88eb6efd147b53e284d391bb7ad159979db3c0f960\\maxminddb-2.0.3-py2.py3-none-any.whl\n",
      "Requirement already satisfied: pyparsing>=2.3.0 in c:\\users\\mirna\\.conda\\lib\\site-packages (from ip2geotools) (2.4.7)\n",
      "Requirement already satisfied: autopep8>=1.4.3 in c:\\users\\mirna\\.conda\\lib\\site-packages (from ip2geotools) (1.5.4)\n",
      "Collecting geoip2>=2.9.0\n",
      "  Using cached geoip2-4.1.0-py2.py3-none-any.whl (25 kB)\n",
      "Collecting ratelim>=0.1.6\n",
      "  Using cached ratelim-0.1.6-py2.py3-none-any.whl (4.0 kB)\n",
      "Collecting cssselect>=1.0.3\n",
      "  Using cached cssselect-1.1.0-py2.py3-none-any.whl (16 kB)\n",
      "Requirement already satisfied: lazy-object-proxy>=1.3.1 in c:\\users\\mirna\\.conda\\lib\\site-packages (from ip2geotools) (1.4.3)\n",
      "Collecting requests-toolbelt>=0.8.0\n",
      "  Using cached requests_toolbelt-0.9.1-py2.py3-none-any.whl (54 kB)\n",
      "Requirement already satisfied: Pygments>=2.3.0 in c:\\users\\mirna\\.conda\\lib\\site-packages (from ip2geotools) (2.7.2)\n",
      "Collecting readme-renderer>=24.0\n",
      "  Using cached readme_renderer-29.0-py2.py3-none-any.whl (15 kB)\n",
      "Requirement already satisfied: pycodestyle>=2.4.0 in c:\\users\\mirna\\.conda\\lib\\site-packages (from ip2geotools) (2.6.0)\n",
      "Requirement already satisfied: docutils>=0.14 in c:\\users\\mirna\\.conda\\lib\\site-packages (from ip2geotools) (0.16)\n",
      "Requirement already satisfied: packaging>=18.0 in c:\\users\\mirna\\.conda\\lib\\site-packages (from ip2geotools) (20.4)\n",
      "Collecting pip-review>=1.0\n",
      "  Using cached pip_review-1.1.0-py3-none-any.whl (7.2 kB)\n",
      "Requirement already satisfied: pylint>=2.2.0 in c:\\users\\mirna\\.conda\\lib\\site-packages (from ip2geotools) (2.6.0)\n",
      "Requirement already satisfied: tqdm>=4.28.1 in c:\\users\\mirna\\.conda\\lib\\site-packages (from ip2geotools) (4.50.2)\n",
      "Requirement already satisfied: astroid>=2.1.0 in c:\\users\\mirna\\.conda\\lib\\site-packages (from ip2geotools) (2.4.2)\n",
      "Requirement already satisfied: requests>=2.20.1 in c:\\users\\mirna\\.conda\\lib\\site-packages (from ip2geotools) (2.24.0)\n",
      "Requirement already satisfied: idna>=2.7 in c:\\users\\mirna\\.conda\\lib\\site-packages (from ip2geotools) (2.10)\n",
      "Collecting twine>=1.12.1\n",
      "  Using cached twine-3.4.1-py3-none-any.whl (34 kB)\n",
      "Requirement already satisfied: toml in c:\\users\\mirna\\.conda\\lib\\site-packages (from autopep8>=1.4.3->ip2geotools) (0.10.1)\n",
      "Collecting aiohttp<4.0.0,>=3.6.2\n",
      "  Using cached aiohttp-3.7.4.post0-cp38-cp38-win_amd64.whl (635 kB)\n",
      "Requirement already satisfied: pip in c:\\users\\mirna\\.conda\\lib\\site-packages (from pip-review>=1.0->ip2geotools) (20.2.4)\n",
      "Requirement already satisfied: colorama; sys_platform == \"win32\" in c:\\users\\mirna\\.conda\\lib\\site-packages (from pylint>=2.2.0->ip2geotools) (0.4.4)\n",
      "Collecting importlib-metadata>=3.6\n",
      "  Downloading importlib_metadata-4.0.1-py3-none-any.whl (16 kB)\n",
      "Requirement already satisfied: keyring>=15.1 in c:\\users\\mirna\\.conda\\lib\\site-packages (from twine>=1.12.1->ip2geotools) (21.4.0)\n",
      "Collecting rfc3986>=1.4.0\n",
      "  Using cached rfc3986-1.4.0-py2.py3-none-any.whl (31 kB)\n",
      "Requirement already satisfied: typing-extensions>=3.6.5 in c:\\users\\mirna\\.conda\\lib\\site-packages (from aiohttp<4.0.0,>=3.6.2->geoip2>=2.9.0->ip2geotools) (3.7.4.3)\n",
      "Collecting yarl<2.0,>=1.0\n",
      "  Using cached yarl-1.6.3-cp38-cp38-win_amd64.whl (125 kB)\n",
      "Collecting async-timeout<4.0,>=3.0\n",
      "  Using cached async_timeout-3.0.1-py3-none-any.whl (8.2 kB)\n",
      "Requirement already satisfied: attrs>=17.3.0 in c:\\users\\mirna\\.conda\\lib\\site-packages (from aiohttp<4.0.0,>=3.6.2->geoip2>=2.9.0->ip2geotools) (20.3.0)\n",
      "Collecting multidict<7.0,>=4.5\n",
      "  Using cached multidict-5.1.0-cp38-cp38-win_amd64.whl (48 kB)\n",
      "Requirement already satisfied: zipp>=0.5 in c:\\users\\mirna\\.conda\\lib\\site-packages (from importlib-metadata>=3.6->twine>=1.12.1->ip2geotools) (3.4.0)\n",
      "Requirement already satisfied: pywin32-ctypes!=0.1.0,!=0.1.1; sys_platform == \"win32\" in c:\\users\\mirna\\.conda\\lib\\site-packages (from keyring>=15.1->twine>=1.12.1->ip2geotools) (0.2.0)\n",
      "Installing collected packages: ratelim, geocoder, cssselect, pyquery, selenium, typed-ast, typing, IP2Location, dicttoxml, maxminddb, multidict, yarl, async-timeout, aiohttp, geoip2, requests-toolbelt, readme-renderer, pip-review, importlib-metadata, rfc3986, twine, ip2geotools\n",
      "  Attempting uninstall: importlib-metadata\n",
      "    Found existing installation: importlib-metadata 2.0.0\n",
      "    Uninstalling importlib-metadata-2.0.0:\n",
      "      Successfully uninstalled importlib-metadata-2.0.0\n",
      "Successfully installed IP2Location-8.5.1 aiohttp-3.7.4.post0 async-timeout-3.0.1 cssselect-1.1.0 dicttoxml-1.7.4 geocoder-1.38.1 geoip2-4.1.0 importlib-metadata-4.0.1 ip2geotools-0.1.5 maxminddb-2.0.3 multidict-5.1.0 pip-review-1.1.0 pyquery-1.4.3 ratelim-0.1.6 readme-renderer-29.0 requests-toolbelt-0.9.1 rfc3986-1.4.0 selenium-3.141.0 twine-3.4.1 typed-ast-1.4.3 typing-3.7.4.3 yarl-1.6.3\n"
     ]
    }
   ],
   "source": [
    "!pip install ip2geotools\n",
    "\n",
    "from ip2geotools.databases.noncommercial import DbIpCity"
   ]
  },
  {
   "cell_type": "code",
   "execution_count": 16,
   "metadata": {
    "id": "jSdycFyYzybd"
   },
   "outputs": [
    {
     "name": "stdout",
     "output_type": "stream",
     "text": [
      "The number of requests is made on 1st Jan 2007 between 8pm to 8.59pm is  214\n"
     ]
    }
   ],
   "source": [
    "#Filter dataframe - 1.01.2007 & hour =20\n",
    "\n",
    "df_ht3 = df_ht2[(df_ht2[\"date\"] == \"2007-01-01\") & (df_ht2[\"hour\"] == 20)]\n",
    "\n",
    "print(\"The number of requests is made on 1st Jan 2007 between 8pm to 8.59pm is  \" + str(len(df_ht3))) #print the number of requests"
   ]
  },
  {
   "cell_type": "code",
   "execution_count": 17,
   "metadata": {},
   "outputs": [
    {
     "name": "stderr",
     "output_type": "stream",
     "text": [
      "<ipython-input-17-c197ab4b6ffa>:2: SettingWithCopyWarning: \n",
      "A value is trying to be set on a copy of a slice from a DataFrame.\n",
      "Try using .loc[row_indexer,col_indexer] = value instead\n",
      "\n",
      "See the caveats in the documentation: https://pandas.pydata.org/pandas-docs/stable/user_guide/indexing.html#returning-a-view-versus-a-copy\n",
      "  df_ht3['country'] = df_ht3.apply(lambda row: DbIpCity.get(row['c-ip'], api_key='free').country, axis=1)\n"
     ]
    },
    {
     "data": {
      "text/html": [
       "<div>\n",
       "<style scoped>\n",
       "    .dataframe tbody tr th:only-of-type {\n",
       "        vertical-align: middle;\n",
       "    }\n",
       "\n",
       "    .dataframe tbody tr th {\n",
       "        vertical-align: top;\n",
       "    }\n",
       "\n",
       "    .dataframe thead th {\n",
       "        text-align: right;\n",
       "    }\n",
       "</style>\n",
       "<table border=\"1\" class=\"dataframe\">\n",
       "  <thead>\n",
       "    <tr style=\"text-align: right;\">\n",
       "      <th></th>\n",
       "      <th>date</th>\n",
       "      <th>time</th>\n",
       "      <th>s-sitename</th>\n",
       "      <th>s-ip</th>\n",
       "      <th>cs-method</th>\n",
       "      <th>cs-uri-stem</th>\n",
       "      <th>s-port</th>\n",
       "      <th>c-ip</th>\n",
       "      <th>cs(User-Agent)</th>\n",
       "      <th>sc-status</th>\n",
       "      <th>sc-substatus</th>\n",
       "      <th>sc-win32-status</th>\n",
       "      <th>hour</th>\n",
       "      <th>country</th>\n",
       "    </tr>\n",
       "  </thead>\n",
       "  <tbody>\n",
       "    <tr>\n",
       "      <th>4770433</th>\n",
       "      <td>2007-01-01</td>\n",
       "      <td>1900-01-01 20:00:00</td>\n",
       "      <td>W3SVC1</td>\n",
       "      <td>127.0.0.1</td>\n",
       "      <td>GET</td>\n",
       "      <td>/Tulip/home/en-us/home_index.aspx</td>\n",
       "      <td>80</td>\n",
       "      <td>210.184.71.81</td>\n",
       "      <td>Mozilla/4.0+(compatible;+MSIE+6.0;+Windows+NT+...</td>\n",
       "      <td>200.0</td>\n",
       "      <td>0.0</td>\n",
       "      <td>0.0</td>\n",
       "      <td>20</td>\n",
       "      <td>HK</td>\n",
       "    </tr>\n",
       "    <tr>\n",
       "      <th>4770434</th>\n",
       "      <td>2007-01-01</td>\n",
       "      <td>1900-01-01 20:00:00</td>\n",
       "      <td>W3SVC1</td>\n",
       "      <td>127.0.0.1</td>\n",
       "      <td>GET</td>\n",
       "      <td>/Tulip/common/common_style.aspx</td>\n",
       "      <td>80</td>\n",
       "      <td>210.184.71.81</td>\n",
       "      <td>Mozilla/4.0+(compatible;+MSIE+6.0;+Windows+NT+...</td>\n",
       "      <td>200.0</td>\n",
       "      <td>0.0</td>\n",
       "      <td>0.0</td>\n",
       "      <td>20</td>\n",
       "      <td>HK</td>\n",
       "    </tr>\n",
       "    <tr>\n",
       "      <th>4770435</th>\n",
       "      <td>2007-01-01</td>\n",
       "      <td>1900-01-01 20:01:12</td>\n",
       "      <td>W3SVC1</td>\n",
       "      <td>127.0.0.1</td>\n",
       "      <td>GET</td>\n",
       "      <td>/Tulip/aboutus/en-us/photo/HarbourViewRoom02.jpg</td>\n",
       "      <td>80</td>\n",
       "      <td>62.211.200.146</td>\n",
       "      <td>Mozilla/5.0+(X11;+U;+Linux+i686;+en-US;+rv:1.8...</td>\n",
       "      <td>200.0</td>\n",
       "      <td>0.0</td>\n",
       "      <td>0.0</td>\n",
       "      <td>20</td>\n",
       "      <td>IT</td>\n",
       "    </tr>\n",
       "    <tr>\n",
       "      <th>4770436</th>\n",
       "      <td>2007-01-01</td>\n",
       "      <td>1900-01-01 20:01:48</td>\n",
       "      <td>W3SVC1</td>\n",
       "      <td>127.0.0.1</td>\n",
       "      <td>GET</td>\n",
       "      <td>/Tulip/aboutus/en-us/photo/SkyLounge01.jpg</td>\n",
       "      <td>80</td>\n",
       "      <td>62.211.200.146</td>\n",
       "      <td>Mozilla/5.0+(X11;+U;+Linux+i686;+en-US;+rv:1.8...</td>\n",
       "      <td>200.0</td>\n",
       "      <td>0.0</td>\n",
       "      <td>0.0</td>\n",
       "      <td>20</td>\n",
       "      <td>IT</td>\n",
       "    </tr>\n",
       "    <tr>\n",
       "      <th>4770437</th>\n",
       "      <td>2007-01-01</td>\n",
       "      <td>1900-01-01 20:01:57</td>\n",
       "      <td>W3SVC1</td>\n",
       "      <td>127.0.0.1</td>\n",
       "      <td>GET</td>\n",
       "      <td>/Tulip/aboutus/en-us/photo/SuperiorRoom01.jpg</td>\n",
       "      <td>80</td>\n",
       "      <td>62.211.200.146</td>\n",
       "      <td>Mozilla/5.0+(X11;+U;+Linux+i686;+en-US;+rv:1.8...</td>\n",
       "      <td>200.0</td>\n",
       "      <td>0.0</td>\n",
       "      <td>0.0</td>\n",
       "      <td>20</td>\n",
       "      <td>IT</td>\n",
       "    </tr>\n",
       "  </tbody>\n",
       "</table>\n",
       "</div>"
      ],
      "text/plain": [
       "              date                time s-sitename       s-ip cs-method  \\\n",
       "4770433 2007-01-01 1900-01-01 20:00:00     W3SVC1  127.0.0.1       GET   \n",
       "4770434 2007-01-01 1900-01-01 20:00:00     W3SVC1  127.0.0.1       GET   \n",
       "4770435 2007-01-01 1900-01-01 20:01:12     W3SVC1  127.0.0.1       GET   \n",
       "4770436 2007-01-01 1900-01-01 20:01:48     W3SVC1  127.0.0.1       GET   \n",
       "4770437 2007-01-01 1900-01-01 20:01:57     W3SVC1  127.0.0.1       GET   \n",
       "\n",
       "                                              cs-uri-stem  s-port  \\\n",
       "4770433                 /Tulip/home/en-us/home_index.aspx      80   \n",
       "4770434                   /Tulip/common/common_style.aspx      80   \n",
       "4770435  /Tulip/aboutus/en-us/photo/HarbourViewRoom02.jpg      80   \n",
       "4770436        /Tulip/aboutus/en-us/photo/SkyLounge01.jpg      80   \n",
       "4770437     /Tulip/aboutus/en-us/photo/SuperiorRoom01.jpg      80   \n",
       "\n",
       "                   c-ip                                     cs(User-Agent)  \\\n",
       "4770433   210.184.71.81  Mozilla/4.0+(compatible;+MSIE+6.0;+Windows+NT+...   \n",
       "4770434   210.184.71.81  Mozilla/4.0+(compatible;+MSIE+6.0;+Windows+NT+...   \n",
       "4770435  62.211.200.146  Mozilla/5.0+(X11;+U;+Linux+i686;+en-US;+rv:1.8...   \n",
       "4770436  62.211.200.146  Mozilla/5.0+(X11;+U;+Linux+i686;+en-US;+rv:1.8...   \n",
       "4770437  62.211.200.146  Mozilla/5.0+(X11;+U;+Linux+i686;+en-US;+rv:1.8...   \n",
       "\n",
       "         sc-status  sc-substatus  sc-win32-status  hour country  \n",
       "4770433      200.0           0.0              0.0    20      HK  \n",
       "4770434      200.0           0.0              0.0    20      HK  \n",
       "4770435      200.0           0.0              0.0    20      IT  \n",
       "4770436      200.0           0.0              0.0    20      IT  \n",
       "4770437      200.0           0.0              0.0    20      IT  "
      ]
     },
     "execution_count": 17,
     "metadata": {},
     "output_type": "execute_result"
    }
   ],
   "source": [
    "#use ip address and locate country using DbIpCity package and add country as new column to data frame\n",
    "df_ht3['country'] = df_ht3.apply(lambda row: DbIpCity.get(row['c-ip'], api_key='free').country, axis=1) \n",
    "\n",
    "df_ht3.head()#check data country column in data frame"
   ]
  },
  {
   "cell_type": "code",
   "execution_count": 18,
   "metadata": {},
   "outputs": [
    {
     "data": {
      "text/plain": [
       "HK    169\n",
       "CN     25\n",
       "US     16\n",
       "IT      3\n",
       "AU      1\n",
       "Name: country, dtype: int64"
      ]
     },
     "execution_count": 18,
     "metadata": {},
     "output_type": "execute_result"
    }
   ],
   "source": [
    "df_ht3['country'].value_counts(ascending=False) #Print and sort country requests\n"
   ]
  },
  {
   "cell_type": "code",
   "execution_count": 19,
   "metadata": {},
   "outputs": [
    {
     "name": "stdout",
     "output_type": "stream",
     "text": [
      "Top 3 Countries\n"
     ]
    },
    {
     "data": {
      "text/plain": [
       "HK    169\n",
       "CN     25\n",
       "US     16\n",
       "Name: country, dtype: int64"
      ]
     },
     "execution_count": 19,
     "metadata": {},
     "output_type": "execute_result"
    }
   ],
   "source": [
    "print(\"Top 3 Countries\")\n",
    "df_ht3['country'].value_counts(ascending=False).head(3) #Top3 countries\n",
    "\n"
   ]
  },
  {
   "cell_type": "code",
   "execution_count": 20,
   "metadata": {
    "id": "xN21MLq7x6Cf"
   },
   "outputs": [
    {
     "data": {
      "text/plain": [
       "Text(0.5, 1.0, 'Requests by Country')"
      ]
     },
     "execution_count": 20,
     "metadata": {},
     "output_type": "execute_result"
    },
    {
     "data": {
      "image/png": "[encoded data removed]",
      "text/plain": [
       "<Figure size 720x720 with 1 Axes>"
      ]
     },
     "metadata": {},
     "output_type": "display_data"
    }
   ],
   "source": [
    "#plot pie chart for requests by country\n",
    "\n",
    "country = ['HK', 'CN', 'US', 'IT', 'AU'] #Assign labels\n",
    "\n",
    "cexplode = [0,0,0,0,0.8]\n",
    "df_ht3['country'].value_counts().plot(kind=\"pie\",figsize=(10,10),autopct='%.2f',textprops={'fontsize': 20}, \n",
    "                                   legend = True, labels=None, pctdistance=0.85, explode=cexplode)  #Plot pie chart by country\n",
    "\n",
    "\n",
    "\n",
    "plt.ylabel(\"\")\n",
    "plt.legend(country, loc=\"upper right\", title='Countries', bbox_to_anchor=(0.1,1), fontsize=20, title_fontsize=18)\n",
    "plt.title(\"Requests by Country\", fontsize=20)"
   ]
  },
  {
   "cell_type": "markdown",
   "metadata": {
    "id": "Qhf-g91_umxF"
   },
   "source": [
    "#### 2.3.B Requests by City\n",
    "<div class=\"alert alert-block alert-warning\">\n",
    "\n",
    "**Code**: \n",
    "    Using the selected requests from 2.3.A and build your code with the following requirements <br>\n",
    "    1. Discover on the demographics by analysing requests from city level. <br>\n",
    "    2. Plot cities of all requests in pie chart. <br>\n",
    "    3. List top 3 with the numbers of requests. <br>\n",
    "    *Keep the outputs for code in your notebook.\n",
    "</div> \n",
    "\n",
    "<div class=\"alert alert-block alert-warning\">\n",
    "    \n",
    "**Report**: \n",
    "    **Part I 2.3.B** Please include your results for this coding task into your report Part I section '2.3.B', <br>\n",
    "    1. How many cites are invlolved? <br>\n",
    "    2. Figure 'Request by City' in pie chart. <br>\n",
    "    3. Top 3 cities with request numbers. <br>\n",
    "</div>"
   ]
  },
  {
   "cell_type": "code",
   "execution_count": 21,
   "metadata": {
    "id": "g7p39EpEBqaj"
   },
   "outputs": [
    {
     "name": "stderr",
     "output_type": "stream",
     "text": [
      "<ipython-input-21-80f6a29a74f2>:2: SettingWithCopyWarning: \n",
      "A value is trying to be set on a copy of a slice from a DataFrame.\n",
      "Try using .loc[row_indexer,col_indexer] = value instead\n",
      "\n",
      "See the caveats in the documentation: https://pandas.pydata.org/pandas-docs/stable/user_guide/indexing.html#returning-a-view-versus-a-copy\n",
      "  df_ht3['city'] = df_ht3.apply(lambda row: DbIpCity.get(row['c-ip'], api_key='free').city, axis=1)\n"
     ]
    },
    {
     "data": {
      "text/html": [
       "<div>\n",
       "<style scoped>\n",
       "    .dataframe tbody tr th:only-of-type {\n",
       "        vertical-align: middle;\n",
       "    }\n",
       "\n",
       "    .dataframe tbody tr th {\n",
       "        vertical-align: top;\n",
       "    }\n",
       "\n",
       "    .dataframe thead th {\n",
       "        text-align: right;\n",
       "    }\n",
       "</style>\n",
       "<table border=\"1\" class=\"dataframe\">\n",
       "  <thead>\n",
       "    <tr style=\"text-align: right;\">\n",
       "      <th></th>\n",
       "      <th>date</th>\n",
       "      <th>time</th>\n",
       "      <th>s-sitename</th>\n",
       "      <th>s-ip</th>\n",
       "      <th>cs-method</th>\n",
       "      <th>cs-uri-stem</th>\n",
       "      <th>s-port</th>\n",
       "      <th>c-ip</th>\n",
       "      <th>cs(User-Agent)</th>\n",
       "      <th>sc-status</th>\n",
       "      <th>sc-substatus</th>\n",
       "      <th>sc-win32-status</th>\n",
       "      <th>hour</th>\n",
       "      <th>country</th>\n",
       "      <th>city</th>\n",
       "    </tr>\n",
       "  </thead>\n",
       "  <tbody>\n",
       "    <tr>\n",
       "      <th>4770433</th>\n",
       "      <td>2007-01-01</td>\n",
       "      <td>1900-01-01 20:00:00</td>\n",
       "      <td>W3SVC1</td>\n",
       "      <td>127.0.0.1</td>\n",
       "      <td>GET</td>\n",
       "      <td>/Tulip/home/en-us/home_index.aspx</td>\n",
       "      <td>80</td>\n",
       "      <td>210.184.71.81</td>\n",
       "      <td>Mozilla/4.0+(compatible;+MSIE+6.0;+Windows+NT+...</td>\n",
       "      <td>200.0</td>\n",
       "      <td>0.0</td>\n",
       "      <td>0.0</td>\n",
       "      <td>20</td>\n",
       "      <td>HK</td>\n",
       "      <td>Hong Kong</td>\n",
       "    </tr>\n",
       "    <tr>\n",
       "      <th>4770434</th>\n",
       "      <td>2007-01-01</td>\n",
       "      <td>1900-01-01 20:00:00</td>\n",
       "      <td>W3SVC1</td>\n",
       "      <td>127.0.0.1</td>\n",
       "      <td>GET</td>\n",
       "      <td>/Tulip/common/common_style.aspx</td>\n",
       "      <td>80</td>\n",
       "      <td>210.184.71.81</td>\n",
       "      <td>Mozilla/4.0+(compatible;+MSIE+6.0;+Windows+NT+...</td>\n",
       "      <td>200.0</td>\n",
       "      <td>0.0</td>\n",
       "      <td>0.0</td>\n",
       "      <td>20</td>\n",
       "      <td>HK</td>\n",
       "      <td>Hong Kong</td>\n",
       "    </tr>\n",
       "    <tr>\n",
       "      <th>4770435</th>\n",
       "      <td>2007-01-01</td>\n",
       "      <td>1900-01-01 20:01:12</td>\n",
       "      <td>W3SVC1</td>\n",
       "      <td>127.0.0.1</td>\n",
       "      <td>GET</td>\n",
       "      <td>/Tulip/aboutus/en-us/photo/HarbourViewRoom02.jpg</td>\n",
       "      <td>80</td>\n",
       "      <td>62.211.200.146</td>\n",
       "      <td>Mozilla/5.0+(X11;+U;+Linux+i686;+en-US;+rv:1.8...</td>\n",
       "      <td>200.0</td>\n",
       "      <td>0.0</td>\n",
       "      <td>0.0</td>\n",
       "      <td>20</td>\n",
       "      <td>IT</td>\n",
       "      <td>Valcanneto</td>\n",
       "    </tr>\n",
       "    <tr>\n",
       "      <th>4770436</th>\n",
       "      <td>2007-01-01</td>\n",
       "      <td>1900-01-01 20:01:48</td>\n",
       "      <td>W3SVC1</td>\n",
       "      <td>127.0.0.1</td>\n",
       "      <td>GET</td>\n",
       "      <td>/Tulip/aboutus/en-us/photo/SkyLounge01.jpg</td>\n",
       "      <td>80</td>\n",
       "      <td>62.211.200.146</td>\n",
       "      <td>Mozilla/5.0+(X11;+U;+Linux+i686;+en-US;+rv:1.8...</td>\n",
       "      <td>200.0</td>\n",
       "      <td>0.0</td>\n",
       "      <td>0.0</td>\n",
       "      <td>20</td>\n",
       "      <td>IT</td>\n",
       "      <td>Valcanneto</td>\n",
       "    </tr>\n",
       "    <tr>\n",
       "      <th>4770437</th>\n",
       "      <td>2007-01-01</td>\n",
       "      <td>1900-01-01 20:01:57</td>\n",
       "      <td>W3SVC1</td>\n",
       "      <td>127.0.0.1</td>\n",
       "      <td>GET</td>\n",
       "      <td>/Tulip/aboutus/en-us/photo/SuperiorRoom01.jpg</td>\n",
       "      <td>80</td>\n",
       "      <td>62.211.200.146</td>\n",
       "      <td>Mozilla/5.0+(X11;+U;+Linux+i686;+en-US;+rv:1.8...</td>\n",
       "      <td>200.0</td>\n",
       "      <td>0.0</td>\n",
       "      <td>0.0</td>\n",
       "      <td>20</td>\n",
       "      <td>IT</td>\n",
       "      <td>Valcanneto</td>\n",
       "    </tr>\n",
       "  </tbody>\n",
       "</table>\n",
       "</div>"
      ],
      "text/plain": [
       "              date                time s-sitename       s-ip cs-method  \\\n",
       "4770433 2007-01-01 1900-01-01 20:00:00     W3SVC1  127.0.0.1       GET   \n",
       "4770434 2007-01-01 1900-01-01 20:00:00     W3SVC1  127.0.0.1       GET   \n",
       "4770435 2007-01-01 1900-01-01 20:01:12     W3SVC1  127.0.0.1       GET   \n",
       "4770436 2007-01-01 1900-01-01 20:01:48     W3SVC1  127.0.0.1       GET   \n",
       "4770437 2007-01-01 1900-01-01 20:01:57     W3SVC1  127.0.0.1       GET   \n",
       "\n",
       "                                              cs-uri-stem  s-port  \\\n",
       "4770433                 /Tulip/home/en-us/home_index.aspx      80   \n",
       "4770434                   /Tulip/common/common_style.aspx      80   \n",
       "4770435  /Tulip/aboutus/en-us/photo/HarbourViewRoom02.jpg      80   \n",
       "4770436        /Tulip/aboutus/en-us/photo/SkyLounge01.jpg      80   \n",
       "4770437     /Tulip/aboutus/en-us/photo/SuperiorRoom01.jpg      80   \n",
       "\n",
       "                   c-ip                                     cs(User-Agent)  \\\n",
       "4770433   210.184.71.81  Mozilla/4.0+(compatible;+MSIE+6.0;+Windows+NT+...   \n",
       "4770434   210.184.71.81  Mozilla/4.0+(compatible;+MSIE+6.0;+Windows+NT+...   \n",
       "4770435  62.211.200.146  Mozilla/5.0+(X11;+U;+Linux+i686;+en-US;+rv:1.8...   \n",
       "4770436  62.211.200.146  Mozilla/5.0+(X11;+U;+Linux+i686;+en-US;+rv:1.8...   \n",
       "4770437  62.211.200.146  Mozilla/5.0+(X11;+U;+Linux+i686;+en-US;+rv:1.8...   \n",
       "\n",
       "         sc-status  sc-substatus  sc-win32-status  hour country        city  \n",
       "4770433      200.0           0.0              0.0    20      HK   Hong Kong  \n",
       "4770434      200.0           0.0              0.0    20      HK   Hong Kong  \n",
       "4770435      200.0           0.0              0.0    20      IT  Valcanneto  \n",
       "4770436      200.0           0.0              0.0    20      IT  Valcanneto  \n",
       "4770437      200.0           0.0              0.0    20      IT  Valcanneto  "
      ]
     },
     "execution_count": 21,
     "metadata": {},
     "output_type": "execute_result"
    }
   ],
   "source": [
    "#use ip address and locate city using DbIpCity package and add city as new column to data frame\n",
    "df_ht3['city'] = df_ht3.apply(lambda row: DbIpCity.get(row['c-ip'], api_key='free').city, axis=1) \n",
    "\n",
    "df_ht3.head() #check to see city column is added\n"
   ]
  },
  {
   "cell_type": "code",
   "execution_count": 22,
   "metadata": {},
   "outputs": [
    {
     "data": {
      "text/plain": [
       "Ha Kwai Chung                         166\n",
       "Beijing                                15\n",
       "New York                               14\n",
       "Jinrongjie (Xicheng District)           9\n",
       "Valcanneto                              3\n",
       "Hong Kong                               2\n",
       "Quarry Bay                              1\n",
       "Mountain View                           1\n",
       "San Francisco (Financial District)      1\n",
       "Hangzhou                                1\n",
       "Sydney                                  1\n",
       "Name: city, dtype: int64"
      ]
     },
     "execution_count": 22,
     "metadata": {},
     "output_type": "execute_result"
    }
   ],
   "source": [
    "df_ht3['city'].value_counts(ascending=False) #Print and sort city"
   ]
  },
  {
   "cell_type": "code",
   "execution_count": 23,
   "metadata": {},
   "outputs": [
    {
     "name": "stdout",
     "output_type": "stream",
     "text": [
      "Top 3 Cities\n"
     ]
    },
    {
     "data": {
      "text/plain": [
       "Ha Kwai Chung    166\n",
       "Beijing           15\n",
       "New York          14\n",
       "Name: city, dtype: int64"
      ]
     },
     "execution_count": 23,
     "metadata": {},
     "output_type": "execute_result"
    }
   ],
   "source": [
    "print(\"Top 3 Cities\")\n",
    "df_ht3['city'].value_counts(ascending=False).head(3) #Top 3 cities"
   ]
  },
  {
   "cell_type": "code",
   "execution_count": 24,
   "metadata": {},
   "outputs": [
    {
     "data": {
      "text/plain": [
       "Text(0.5, 1.0, 'Requests by City')"
      ]
     },
     "execution_count": 24,
     "metadata": {},
     "output_type": "execute_result"
    },
    {
     "data": {
      "image/png": "[encoded data removed]",
      "text/plain": [
       "<Figure size 720x720 with 1 Axes>"
      ]
     },
     "metadata": {},
     "output_type": "display_data"
    }
   ],
   "source": [
    "#plot pie chart for requests by city \n",
    "\n",
    "ciexplode = [0,0,0,0,0,0,1.2,1.0,0.7,1.0,0.8]\n",
    "df_ht3['city'].value_counts().plot(kind=\"pie\",figsize=(10,10),autopct='%.2f',textprops={'fontsize': 20}, \n",
    "                                  legend=True, pctdistance=1.2, labels=None, explode=ciexplode)\n",
    "                                                     \n",
    "\n",
    "plt.ylabel(\"\")\n",
    "\n",
    "plt.title(\"Requests by City\", fontsize=20)\n"
   ]
  },
  {
   "cell_type": "markdown",
   "metadata": {
    "id": "UOLvHKdZtcto"
   },
   "source": [
    "# Part II - Web Crawling\n",
    "\n",
    "## Overview\n",
    "To better introduce all the professors including the emeritus professor, the professor and also associate professor in Deakin University School of IT, faculty will need to know all the citation information on all professors. Google Scholar is a web search engine that freely indexes the metadata of articles on many authors. Majority of the professors choose to use google scholar to track their publications and research works. Therefore,  the web crawling on google scholar will be able to have the citation information obtained across all the professors (who have the google scholar profile).\n"
   ]
  },
  {
   "cell_type": "markdown",
   "metadata": {
    "id": "gqbiN3nAw0tS"
   },
   "source": [
    "## 3. Professor List Generation"
   ]
  },
  {
   "cell_type": "markdown",
   "metadata": {
    "id": "Bm7eq9Iywjc-"
   },
   "source": [
    "### 3.1 Import and install web crawling library. \n",
    "\n",
    "<div class=\"alert alert-block alert-warning\">\n",
    "\n",
    "**Code**: \n",
    "    Import and install your web crawling library here. \n",
    "</div> \n",
    "\n",
    "<div class=\"alert alert-block alert-warning\">\n",
    "    \n",
    "**Report**: \n",
    "    **Part II 3.1** Please include your result for this coding task into your report Part II, with proper section title '3.1'.\n",
    "</div>\n",
    "\n",
    "*hint: you could use selenium by doing the pip install selenium, download the webdriver for chromedriver and define your webdriver for crawling. But you are free to use any other library*\n",
    "\n"
   ]
  },
  {
   "cell_type": "code",
   "execution_count": 25,
   "metadata": {
    "id": "rHKPhKwUwtyI"
   },
   "outputs": [
    {
     "name": "stdout",
     "output_type": "stream",
     "text": [
      "Requirement already satisfied: beautifulsoup4 in c:\\users\\mirna\\.conda\\lib\\site-packages (4.9.3)\n",
      "Requirement already satisfied: soupsieve>1.2; python_version >= \"3.0\" in c:\\users\\mirna\\.conda\\lib\\site-packages (from beautifulsoup4) (2.0.1)\n"
     ]
    }
   ],
   "source": [
    "!pip install beautifulsoup4\n",
    "from bs4 import BeautifulSoup\n",
    "import requests \n",
    "\n",
    "\n"
   ]
  },
  {
   "cell_type": "markdown",
   "metadata": {
    "id": "ZX4OQIsfwwk_"
   },
   "source": [
    "### 3.2 Find all professors in School of IT and save it as csv. \n",
    "\n",
    "<div class=\"alert alert-block alert-warning\">\n",
    "\n",
    "**Code**: \n",
    "    Find all professors in Schoolf of IT and save it as csv. The csv must have the full name of the professor (in one column), the title of the professor and University Name.\n",
    "</div> \n",
    "\n",
    "<div class=\"alert alert-block alert-warning\">\n",
    "    \n",
    "**Report**: \n",
    "    **Part II 3.2** Please include your result for this coding task into your report Part II, with proper section title '3.2'.\n",
    "</div>\n",
    "\n",
    "\n",
    "\n",
    "*hint: the url of the staff list for school of IT is https://www.deakin.edu.au/information-technology/staff-listing. you may need to iteratively find out html tag by table in the page to start crawl all the text from td (td is the elements in html table, check https://www.w3schools.com/html/html_tables.asp)*"
   ]
  },
  {
   "cell_type": "code",
   "execution_count": 26,
   "metadata": {
    "id": "vII6Na-1xEAh"
   },
   "outputs": [],
   "source": [
    "url = 'https://www.deakin.edu.au/information-technology/staff-listing' #assign website to variable URL\n",
    "\n",
    "req = requests.get(url) #use requests function to call and access URL\n",
    "\n",
    "soup = BeautifulSoup(req.text, 'lxml') #assign request from URL request as text to variable soup\n",
    "\n",
    "tables = soup.select('table') #locate all tables from web scrape results\n",
    "\n",
    "SIT_df =[] #create empty dataframe to add web scraping results\n",
    "\n",
    "for i in tables:\n",
    "    SIT_df.append(pd.concat(pd.read_html(i.prettify())))\n",
    "    \n",
    "SIT = pd.concat(SIT_df)"
   ]
  },
  {
   "cell_type": "code",
   "execution_count": 27,
   "metadata": {},
   "outputs": [
    {
     "data": {
      "text/html": [
       "<div>\n",
       "<style scoped>\n",
       "    .dataframe tbody tr th:only-of-type {\n",
       "        vertical-align: middle;\n",
       "    }\n",
       "\n",
       "    .dataframe tbody tr th {\n",
       "        vertical-align: top;\n",
       "    }\n",
       "\n",
       "    .dataframe thead th {\n",
       "        text-align: right;\n",
       "    }\n",
       "</style>\n",
       "<table border=\"1\" class=\"dataframe\">\n",
       "  <thead>\n",
       "    <tr style=\"text-align: right;\">\n",
       "      <th></th>\n",
       "      <th>Name</th>\n",
       "    </tr>\n",
       "  </thead>\n",
       "  <tbody>\n",
       "    <tr>\n",
       "      <th>0</th>\n",
       "      <td>Emeritus Professor Lynn Batten</td>\n",
       "    </tr>\n",
       "    <tr>\n",
       "      <th>1</th>\n",
       "      <td>Emeritus Professor Andrzej Goscinski</td>\n",
       "    </tr>\n",
       "    <tr>\n",
       "      <th>0</th>\n",
       "      <td>Professor Jemal Abawajy</td>\n",
       "    </tr>\n",
       "    <tr>\n",
       "      <th>1</th>\n",
       "      <td>Professor Maia Angelova</td>\n",
       "    </tr>\n",
       "    <tr>\n",
       "      <th>2</th>\n",
       "      <td>Professor Gleb Beliakov</td>\n",
       "    </tr>\n",
       "    <tr>\n",
       "      <th>...</th>\n",
       "      <td>...</td>\n",
       "    </tr>\n",
       "    <tr>\n",
       "      <th>2</th>\n",
       "      <td>Jesse Mcmeikan</td>\n",
       "    </tr>\n",
       "    <tr>\n",
       "      <th>3</th>\n",
       "      <td>Thuy Nguyen</td>\n",
       "    </tr>\n",
       "    <tr>\n",
       "      <th>4</th>\n",
       "      <td>Michelle Yu</td>\n",
       "    </tr>\n",
       "    <tr>\n",
       "      <th>0</th>\n",
       "      <td>Nghia Dang</td>\n",
       "    </tr>\n",
       "    <tr>\n",
       "      <th>1</th>\n",
       "      <td>Justin Li</td>\n",
       "    </tr>\n",
       "  </tbody>\n",
       "</table>\n",
       "<p>176 rows × 1 columns</p>\n",
       "</div>"
      ],
      "text/plain": [
       "                                    Name\n",
       "0         Emeritus Professor Lynn Batten\n",
       "1   Emeritus Professor Andrzej Goscinski\n",
       "0                Professor Jemal Abawajy\n",
       "1                Professor Maia Angelova\n",
       "2                Professor Gleb Beliakov\n",
       "..                                   ...\n",
       "2                         Jesse Mcmeikan\n",
       "3                            Thuy Nguyen\n",
       "4                            Michelle Yu\n",
       "0                             Nghia Dang\n",
       "1                              Justin Li\n",
       "\n",
       "[176 rows x 1 columns]"
      ]
     },
     "execution_count": 27,
     "metadata": {},
     "output_type": "execute_result"
    }
   ],
   "source": [
    "SIT #check data frame content"
   ]
  },
  {
   "cell_type": "code",
   "execution_count": 28,
   "metadata": {},
   "outputs": [],
   "source": [
    "SIT = SIT['Name'].str.extract(r'(.*Professor)?\\s?(.+)') #extract anything before and including professor substring from string variable\n",
    "\n",
    "SIT.rename({0:'Title', 1:'Name'}, axis=1, inplace=True) #ammend data frame to edit headers\n",
    "\n",
    "SIT['University'] = 'Deakin University' #append data frame with new column named University populated with Deakin University as value"
   ]
  },
  {
   "cell_type": "code",
   "execution_count": 29,
   "metadata": {},
   "outputs": [
    {
     "data": {
      "text/html": [
       "<div>\n",
       "<style scoped>\n",
       "    .dataframe tbody tr th:only-of-type {\n",
       "        vertical-align: middle;\n",
       "    }\n",
       "\n",
       "    .dataframe tbody tr th {\n",
       "        vertical-align: top;\n",
       "    }\n",
       "\n",
       "    .dataframe thead th {\n",
       "        text-align: right;\n",
       "    }\n",
       "</style>\n",
       "<table border=\"1\" class=\"dataframe\">\n",
       "  <thead>\n",
       "    <tr style=\"text-align: right;\">\n",
       "      <th></th>\n",
       "      <th>Title</th>\n",
       "      <th>Name</th>\n",
       "      <th>University</th>\n",
       "    </tr>\n",
       "  </thead>\n",
       "  <tbody>\n",
       "    <tr>\n",
       "      <th>0</th>\n",
       "      <td>Emeritus Professor</td>\n",
       "      <td>Lynn Batten</td>\n",
       "      <td>Deakin University</td>\n",
       "    </tr>\n",
       "    <tr>\n",
       "      <th>1</th>\n",
       "      <td>Emeritus Professor</td>\n",
       "      <td>Andrzej Goscinski</td>\n",
       "      <td>Deakin University</td>\n",
       "    </tr>\n",
       "    <tr>\n",
       "      <th>0</th>\n",
       "      <td>Professor</td>\n",
       "      <td>Jemal Abawajy</td>\n",
       "      <td>Deakin University</td>\n",
       "    </tr>\n",
       "    <tr>\n",
       "      <th>1</th>\n",
       "      <td>Professor</td>\n",
       "      <td>Maia Angelova</td>\n",
       "      <td>Deakin University</td>\n",
       "    </tr>\n",
       "    <tr>\n",
       "      <th>2</th>\n",
       "      <td>Professor</td>\n",
       "      <td>Gleb Beliakov</td>\n",
       "      <td>Deakin University</td>\n",
       "    </tr>\n",
       "    <tr>\n",
       "      <th>3</th>\n",
       "      <td>Professor</td>\n",
       "      <td>Terry Caelli</td>\n",
       "      <td>Deakin University</td>\n",
       "    </tr>\n",
       "    <tr>\n",
       "      <th>4</th>\n",
       "      <td>Professor</td>\n",
       "      <td>Jinho Choi</td>\n",
       "      <td>Deakin University</td>\n",
       "    </tr>\n",
       "    <tr>\n",
       "      <th>5</th>\n",
       "      <td>Professor</td>\n",
       "      <td>Chang-Tsun Li</td>\n",
       "      <td>Deakin University</td>\n",
       "    </tr>\n",
       "    <tr>\n",
       "      <th>6</th>\n",
       "      <td>Professor</td>\n",
       "      <td>Robin Doss</td>\n",
       "      <td>Deakin University</td>\n",
       "    </tr>\n",
       "    <tr>\n",
       "      <th>7</th>\n",
       "      <td>Professor</td>\n",
       "      <td>Peter Eklund</td>\n",
       "      <td>Deakin University</td>\n",
       "    </tr>\n",
       "  </tbody>\n",
       "</table>\n",
       "</div>"
      ],
      "text/plain": [
       "                Title               Name         University\n",
       "0  Emeritus Professor        Lynn Batten  Deakin University\n",
       "1  Emeritus Professor  Andrzej Goscinski  Deakin University\n",
       "0           Professor      Jemal Abawajy  Deakin University\n",
       "1           Professor      Maia Angelova  Deakin University\n",
       "2           Professor      Gleb Beliakov  Deakin University\n",
       "3           Professor       Terry Caelli  Deakin University\n",
       "4           Professor         Jinho Choi  Deakin University\n",
       "5           Professor      Chang-Tsun Li  Deakin University\n",
       "6           Professor         Robin Doss  Deakin University\n",
       "7           Professor       Peter Eklund  Deakin University"
      ]
     },
     "execution_count": 29,
     "metadata": {},
     "output_type": "execute_result"
    }
   ],
   "source": [
    "SIT.head(10)#check titles have been extracted from name and new columns added"
   ]
  },
  {
   "cell_type": "code",
   "execution_count": 30,
   "metadata": {},
   "outputs": [],
   "source": [
    "#filter dataframe to only include individuals that are either Emeritus Professor, Professor or Associate Professor\n",
    "SIT = SIT[(SIT['Title'] == \"Emeritus Professor\") |(SIT['Title'] == \"Professor\") | (SIT['Title'] == \"Associate Professor\")]"
   ]
  },
  {
   "cell_type": "code",
   "execution_count": 31,
   "metadata": {},
   "outputs": [],
   "source": [
    "SIT.to_csv('Professor-list.csv', index=False) #export data frame to csv"
   ]
  }
 ],
 "metadata": {
  "colab": {
   "collapsed_sections": [],
   "name": "SIT742Task1.ipynb",
   "provenance": [],
   "toc_visible": true
  },
  "kernelspec": {
   "display_name": "Python 3",
   "language": "python",
   "name": "python3"
  },
  "language_info": {
   "codemirror_mode": {
    "name": "ipython",
    "version": 3
   },
   "file_extension": ".py",
   "mimetype": "text/x-python",
   "name": "python",
   "nbconvert_exporter": "python",
   "pygments_lexer": "ipython3",
   "version": "3.8.8"
  },
  "name": "SampleCode",
  "notebookId": 2691131752868967
 },
 "nbformat": 4,
 "nbformat_minor": 1
}
