{
 "cells": [
  {
   "cell_type": "code",
   "execution_count": 1,
   "metadata": {},
   "outputs": [],
   "source": [
    "import matplotlib.pyplot as plt\n",
    "import numpy as np\n",
    "import pandas as pd\n",
    "import seaborn as sns\n",
    "import warnings\n",
    "warnings.filterwarnings('ignore')\n"
   ]
  },
  {
   "cell_type": "code",
   "execution_count": 2,
   "metadata": {},
   "outputs": [],
   "source": [
    "heartdf = pd.read_csv(\"A1_heart_disease_dataset.csv\")"
   ]
  },
  {
   "cell_type": "code",
   "execution_count": 3,
   "metadata": {},
   "outputs": [
    {
     "data": {
      "text/html": [
       "<div>\n",
       "<style scoped>\n",
       "    .dataframe tbody tr th:only-of-type {\n",
       "        vertical-align: middle;\n",
       "    }\n",
       "\n",
       "    .dataframe tbody tr th {\n",
       "        vertical-align: top;\n",
       "    }\n",
       "\n",
       "    .dataframe thead th {\n",
       "        text-align: right;\n",
       "    }\n",
       "</style>\n",
       "<table border=\"1\" class=\"dataframe\">\n",
       "  <thead>\n",
       "    <tr style=\"text-align: right;\">\n",
       "      <th></th>\n",
       "      <th>age</th>\n",
       "      <th>sex</th>\n",
       "      <th>cp</th>\n",
       "      <th>trestbps</th>\n",
       "      <th>chol</th>\n",
       "      <th>fbs</th>\n",
       "      <th>restecg</th>\n",
       "      <th>thalach</th>\n",
       "      <th>exang</th>\n",
       "      <th>oldpeak</th>\n",
       "      <th>slope</th>\n",
       "      <th>ca</th>\n",
       "      <th>thal</th>\n",
       "      <th>state</th>\n",
       "    </tr>\n",
       "  </thead>\n",
       "  <tbody>\n",
       "    <tr>\n",
       "      <th>0</th>\n",
       "      <td>63.0</td>\n",
       "      <td>M</td>\n",
       "      <td>tap</td>\n",
       "      <td>145.0</td>\n",
       "      <td>233.0</td>\n",
       "      <td>yes</td>\n",
       "      <td>2.0</td>\n",
       "      <td>150.0</td>\n",
       "      <td>0.0</td>\n",
       "      <td>2.3</td>\n",
       "      <td>3.0</td>\n",
       "      <td>0.0</td>\n",
       "      <td>6.0</td>\n",
       "      <td>0.0</td>\n",
       "    </tr>\n",
       "    <tr>\n",
       "      <th>1</th>\n",
       "      <td>67.0</td>\n",
       "      <td>M</td>\n",
       "      <td>asp</td>\n",
       "      <td>160.0</td>\n",
       "      <td>286.0</td>\n",
       "      <td>no</td>\n",
       "      <td>2.0</td>\n",
       "      <td>108.0</td>\n",
       "      <td>1.0</td>\n",
       "      <td>1.5</td>\n",
       "      <td>2.0</td>\n",
       "      <td>3.0</td>\n",
       "      <td>3.0</td>\n",
       "      <td>2.0</td>\n",
       "    </tr>\n",
       "    <tr>\n",
       "      <th>2</th>\n",
       "      <td>67.0</td>\n",
       "      <td>M</td>\n",
       "      <td>asp</td>\n",
       "      <td>120.0</td>\n",
       "      <td>229.0</td>\n",
       "      <td>no</td>\n",
       "      <td>2.0</td>\n",
       "      <td>129.0</td>\n",
       "      <td>1.0</td>\n",
       "      <td>2.6</td>\n",
       "      <td>2.0</td>\n",
       "      <td>2.0</td>\n",
       "      <td>7.0</td>\n",
       "      <td>1.0</td>\n",
       "    </tr>\n",
       "    <tr>\n",
       "      <th>3</th>\n",
       "      <td>37.0</td>\n",
       "      <td>M</td>\n",
       "      <td>nap</td>\n",
       "      <td>130.0</td>\n",
       "      <td>250.0</td>\n",
       "      <td>no</td>\n",
       "      <td>0.0</td>\n",
       "      <td>187.0</td>\n",
       "      <td>0.0</td>\n",
       "      <td>3.5</td>\n",
       "      <td>3.0</td>\n",
       "      <td>0.0</td>\n",
       "      <td>3.0</td>\n",
       "      <td>0.0</td>\n",
       "    </tr>\n",
       "    <tr>\n",
       "      <th>4</th>\n",
       "      <td>41.0</td>\n",
       "      <td>F</td>\n",
       "      <td>aap</td>\n",
       "      <td>130.0</td>\n",
       "      <td>204.0</td>\n",
       "      <td>no</td>\n",
       "      <td>2.0</td>\n",
       "      <td>172.0</td>\n",
       "      <td>0.0</td>\n",
       "      <td>1.4</td>\n",
       "      <td>1.0</td>\n",
       "      <td>0.0</td>\n",
       "      <td>3.0</td>\n",
       "      <td>0.0</td>\n",
       "    </tr>\n",
       "  </tbody>\n",
       "</table>\n",
       "</div>"
      ],
      "text/plain": [
       "    age sex   cp  trestbps   chol  fbs  restecg  thalach  exang  oldpeak  \\\n",
       "0  63.0   M  tap     145.0  233.0  yes      2.0    150.0    0.0      2.3   \n",
       "1  67.0   M  asp     160.0  286.0   no      2.0    108.0    1.0      1.5   \n",
       "2  67.0   M  asp     120.0  229.0   no      2.0    129.0    1.0      2.6   \n",
       "3  37.0   M  nap     130.0  250.0   no      0.0    187.0    0.0      3.5   \n",
       "4  41.0   F  aap     130.0  204.0   no      2.0    172.0    0.0      1.4   \n",
       "\n",
       "   slope   ca  thal  state  \n",
       "0    3.0  0.0   6.0    0.0  \n",
       "1    2.0  3.0   3.0    2.0  \n",
       "2    2.0  2.0   7.0    1.0  \n",
       "3    3.0  0.0   3.0    0.0  \n",
       "4    1.0  0.0   3.0    0.0  "
      ]
     },
     "execution_count": 3,
     "metadata": {},
     "output_type": "execute_result"
    }
   ],
   "source": [
    "heartdf.head(5)"
   ]
  },
  {
   "cell_type": "code",
   "execution_count": 4,
   "metadata": {},
   "outputs": [
    {
     "name": "stdout",
     "output_type": "stream",
     "text": [
      "<class 'pandas.core.frame.DataFrame'>\n",
      "RangeIndex: 303 entries, 0 to 302\n",
      "Data columns (total 14 columns):\n",
      " #   Column    Non-Null Count  Dtype  \n",
      "---  ------    --------------  -----  \n",
      " 0   age       295 non-null    float64\n",
      " 1   sex       295 non-null    object \n",
      " 2   cp        292 non-null    object \n",
      " 3   trestbps  295 non-null    float64\n",
      " 4   chol      293 non-null    float64\n",
      " 5   fbs       295 non-null    object \n",
      " 6   restecg   295 non-null    float64\n",
      " 7   thalach   291 non-null    float64\n",
      " 8   exang     295 non-null    float64\n",
      " 9   oldpeak   295 non-null    float64\n",
      " 10  slope     295 non-null    float64\n",
      " 11  ca        291 non-null    float64\n",
      " 12  thal      295 non-null    float64\n",
      " 13  state     293 non-null    float64\n",
      "dtypes: float64(11), object(3)\n",
      "memory usage: 33.3+ KB\n"
     ]
    }
   ],
   "source": [
    "heartdf.info()"
   ]
  },
  {
   "cell_type": "markdown",
   "metadata": {},
   "source": [
    "### 1. Load the data from supplied data file. Remove the observations/samples where the heart diseases are not diagnosed by the Cardiologists. Print the data dimension before and after removing the observations/samples."
   ]
  },
  {
   "cell_type": "code",
   "execution_count": 5,
   "metadata": {},
   "outputs": [
    {
     "name": "stdout",
     "output_type": "stream",
     "text": [
      "The number of columns is 14\n",
      "The number of observations is 303\n"
     ]
    }
   ],
   "source": [
    "#data dimension prior to removing obeservations not diagnosed by cardiologist\n",
    "\n",
    "print(\"The number of columns is \"+ str(len(heartdf.columns)))\n",
    "\n",
    "print(\"The number of observations is \"+ str(len(heartdf)))\n"
   ]
  },
  {
   "cell_type": "code",
   "execution_count": 6,
   "metadata": {
    "scrolled": true
   },
   "outputs": [],
   "source": [
    "#create new df to remove observations not diagnosed by cardiologist\n",
    "\n",
    "heartdf2 = heartdf[heartdf['state']>= 0.0]"
   ]
  },
  {
   "cell_type": "code",
   "execution_count": 7,
   "metadata": {},
   "outputs": [],
   "source": [
    "heartdf2 = heartdf2.reset_index(drop=True)"
   ]
  },
  {
   "cell_type": "code",
   "execution_count": 8,
   "metadata": {},
   "outputs": [
    {
     "data": {
      "text/html": [
       "<div>\n",
       "<style scoped>\n",
       "    .dataframe tbody tr th:only-of-type {\n",
       "        vertical-align: middle;\n",
       "    }\n",
       "\n",
       "    .dataframe tbody tr th {\n",
       "        vertical-align: top;\n",
       "    }\n",
       "\n",
       "    .dataframe thead th {\n",
       "        text-align: right;\n",
       "    }\n",
       "</style>\n",
       "<table border=\"1\" class=\"dataframe\">\n",
       "  <thead>\n",
       "    <tr style=\"text-align: right;\">\n",
       "      <th></th>\n",
       "      <th>age</th>\n",
       "      <th>sex</th>\n",
       "      <th>cp</th>\n",
       "      <th>trestbps</th>\n",
       "      <th>chol</th>\n",
       "      <th>fbs</th>\n",
       "      <th>restecg</th>\n",
       "      <th>thalach</th>\n",
       "      <th>exang</th>\n",
       "      <th>oldpeak</th>\n",
       "      <th>slope</th>\n",
       "      <th>ca</th>\n",
       "      <th>thal</th>\n",
       "      <th>state</th>\n",
       "    </tr>\n",
       "  </thead>\n",
       "  <tbody>\n",
       "    <tr>\n",
       "      <th>0</th>\n",
       "      <td>63.0</td>\n",
       "      <td>M</td>\n",
       "      <td>tap</td>\n",
       "      <td>145.0</td>\n",
       "      <td>233.0</td>\n",
       "      <td>yes</td>\n",
       "      <td>2.0</td>\n",
       "      <td>150.0</td>\n",
       "      <td>0.0</td>\n",
       "      <td>2.3</td>\n",
       "      <td>3.0</td>\n",
       "      <td>0.0</td>\n",
       "      <td>6.0</td>\n",
       "      <td>0.0</td>\n",
       "    </tr>\n",
       "    <tr>\n",
       "      <th>1</th>\n",
       "      <td>67.0</td>\n",
       "      <td>M</td>\n",
       "      <td>asp</td>\n",
       "      <td>160.0</td>\n",
       "      <td>286.0</td>\n",
       "      <td>no</td>\n",
       "      <td>2.0</td>\n",
       "      <td>108.0</td>\n",
       "      <td>1.0</td>\n",
       "      <td>1.5</td>\n",
       "      <td>2.0</td>\n",
       "      <td>3.0</td>\n",
       "      <td>3.0</td>\n",
       "      <td>2.0</td>\n",
       "    </tr>\n",
       "    <tr>\n",
       "      <th>2</th>\n",
       "      <td>67.0</td>\n",
       "      <td>M</td>\n",
       "      <td>asp</td>\n",
       "      <td>120.0</td>\n",
       "      <td>229.0</td>\n",
       "      <td>no</td>\n",
       "      <td>2.0</td>\n",
       "      <td>129.0</td>\n",
       "      <td>1.0</td>\n",
       "      <td>2.6</td>\n",
       "      <td>2.0</td>\n",
       "      <td>2.0</td>\n",
       "      <td>7.0</td>\n",
       "      <td>1.0</td>\n",
       "    </tr>\n",
       "    <tr>\n",
       "      <th>3</th>\n",
       "      <td>37.0</td>\n",
       "      <td>M</td>\n",
       "      <td>nap</td>\n",
       "      <td>130.0</td>\n",
       "      <td>250.0</td>\n",
       "      <td>no</td>\n",
       "      <td>0.0</td>\n",
       "      <td>187.0</td>\n",
       "      <td>0.0</td>\n",
       "      <td>3.5</td>\n",
       "      <td>3.0</td>\n",
       "      <td>0.0</td>\n",
       "      <td>3.0</td>\n",
       "      <td>0.0</td>\n",
       "    </tr>\n",
       "    <tr>\n",
       "      <th>4</th>\n",
       "      <td>41.0</td>\n",
       "      <td>F</td>\n",
       "      <td>aap</td>\n",
       "      <td>130.0</td>\n",
       "      <td>204.0</td>\n",
       "      <td>no</td>\n",
       "      <td>2.0</td>\n",
       "      <td>172.0</td>\n",
       "      <td>0.0</td>\n",
       "      <td>1.4</td>\n",
       "      <td>1.0</td>\n",
       "      <td>0.0</td>\n",
       "      <td>3.0</td>\n",
       "      <td>0.0</td>\n",
       "    </tr>\n",
       "  </tbody>\n",
       "</table>\n",
       "</div>"
      ],
      "text/plain": [
       "    age sex   cp  trestbps   chol  fbs  restecg  thalach  exang  oldpeak  \\\n",
       "0  63.0   M  tap     145.0  233.0  yes      2.0    150.0    0.0      2.3   \n",
       "1  67.0   M  asp     160.0  286.0   no      2.0    108.0    1.0      1.5   \n",
       "2  67.0   M  asp     120.0  229.0   no      2.0    129.0    1.0      2.6   \n",
       "3  37.0   M  nap     130.0  250.0   no      0.0    187.0    0.0      3.5   \n",
       "4  41.0   F  aap     130.0  204.0   no      2.0    172.0    0.0      1.4   \n",
       "\n",
       "   slope   ca  thal  state  \n",
       "0    3.0  0.0   6.0    0.0  \n",
       "1    2.0  3.0   3.0    2.0  \n",
       "2    2.0  2.0   7.0    1.0  \n",
       "3    3.0  0.0   3.0    0.0  \n",
       "4    1.0  0.0   3.0    0.0  "
      ]
     },
     "execution_count": 8,
     "metadata": {},
     "output_type": "execute_result"
    }
   ],
   "source": [
    "heartdf2.head(5)"
   ]
  },
  {
   "cell_type": "code",
   "execution_count": 9,
   "metadata": {},
   "outputs": [
    {
     "name": "stdout",
     "output_type": "stream",
     "text": [
      "The number of columns is 14\n",
      "The number of observations is 293\n"
     ]
    }
   ],
   "source": [
    "#data dimension after to removing obeservations not diagnosed by cardiologist\n",
    "print(\"The number of columns is \"+ str(len(heartdf2.columns)))\n",
    "\n",
    "print(\"The number of observations is \"+ str(len(heartdf2)))"
   ]
  },
  {
   "cell_type": "markdown",
   "metadata": {},
   "source": [
    "### 2. Continue from question 1. Display the number of rows and their indices that have missing data in one or more cells. Now, replace the missing data by the lowest value of the corresponding feature if it is a continuous variable. In case of categorical variable, remove the sample. Print the median values of all features before and after replacing missing data."
   ]
  },
  {
   "cell_type": "code",
   "execution_count": 10,
   "metadata": {},
   "outputs": [
    {
     "name": "stdout",
     "output_type": "stream",
     "text": [
      "age         [63.0, 67.0, 37.0, 41.0, 56.0, 62.0, 57.0, 53....\n",
      "sex                                                    [M, F]\n",
      "cp                                  [tap, asp, nap, aap, nan]\n",
      "trestbps    [145.0, 160.0, 120.0, 130.0, 140.0, 172.0, 150...\n",
      "chol        [233.0, 286.0, 229.0, 250.0, 204.0, 236.0, 268...\n",
      "fbs                                                 [yes, no]\n",
      "restecg                                       [2.0, 0.0, 1.0]\n",
      "thalach     [150.0, 108.0, 129.0, 187.0, 172.0, 178.0, 160...\n",
      "exang                                              [0.0, 1.0]\n",
      "oldpeak     [2.3, 1.5, 2.6, 3.5, 1.4, 0.8, 3.6, 0.6, 3.1, ...\n",
      "slope                                         [3.0, 2.0, 1.0]\n",
      "ca                                  [0.0, 3.0, 2.0, 1.0, nan]\n",
      "thal                                     [6.0, 3.0, 7.0, 0.0]\n",
      "state                               [0.0, 2.0, 1.0, 3.0, 4.0]\n",
      "dtype: object\n"
     ]
    }
   ],
   "source": [
    "#first check all features for unique values\n",
    "print(heartdf2.apply(lambda col: col.unique()))"
   ]
  },
  {
   "cell_type": "code",
   "execution_count": 11,
   "metadata": {},
   "outputs": [],
   "source": [
    "heartdf2[\"thal\"].replace({0:np.nan}, inplace= True) #replace 0 in thal as this needs to be either 3, 6, 7"
   ]
  },
  {
   "cell_type": "code",
   "execution_count": 12,
   "metadata": {},
   "outputs": [
    {
     "name": "stdout",
     "output_type": "stream",
     "text": [
      "age         0\n",
      "sex         0\n",
      "cp          3\n",
      "trestbps    0\n",
      "chol        2\n",
      "fbs         0\n",
      "restecg     0\n",
      "thalach     4\n",
      "exang       0\n",
      "oldpeak     0\n",
      "slope       0\n",
      "ca          3\n",
      "thal        2\n",
      "state       0\n",
      "dtype: int64\n"
     ]
    }
   ],
   "source": [
    "#Identify features with missing values\n",
    "print(heartdf2.isnull().sum())"
   ]
  },
  {
   "cell_type": "code",
   "execution_count": 13,
   "metadata": {},
   "outputs": [
    {
     "data": {
      "text/html": [
       "<div>\n",
       "<style scoped>\n",
       "    .dataframe tbody tr th:only-of-type {\n",
       "        vertical-align: middle;\n",
       "    }\n",
       "\n",
       "    .dataframe tbody tr th {\n",
       "        vertical-align: top;\n",
       "    }\n",
       "\n",
       "    .dataframe thead th {\n",
       "        text-align: right;\n",
       "    }\n",
       "</style>\n",
       "<table border=\"1\" class=\"dataframe\">\n",
       "  <thead>\n",
       "    <tr style=\"text-align: right;\">\n",
       "      <th></th>\n",
       "      <th>age</th>\n",
       "      <th>sex</th>\n",
       "      <th>cp</th>\n",
       "      <th>trestbps</th>\n",
       "      <th>chol</th>\n",
       "      <th>fbs</th>\n",
       "      <th>restecg</th>\n",
       "      <th>thalach</th>\n",
       "      <th>exang</th>\n",
       "      <th>oldpeak</th>\n",
       "      <th>slope</th>\n",
       "      <th>ca</th>\n",
       "      <th>thal</th>\n",
       "      <th>state</th>\n",
       "    </tr>\n",
       "  </thead>\n",
       "  <tbody>\n",
       "    <tr>\n",
       "      <th>6</th>\n",
       "      <td>62.0</td>\n",
       "      <td>F</td>\n",
       "      <td>NaN</td>\n",
       "      <td>140.0</td>\n",
       "      <td>268.0</td>\n",
       "      <td>no</td>\n",
       "      <td>2.0</td>\n",
       "      <td>160.0</td>\n",
       "      <td>0.0</td>\n",
       "      <td>3.6</td>\n",
       "      <td>3.0</td>\n",
       "      <td>2.0</td>\n",
       "      <td>3.0</td>\n",
       "      <td>3.0</td>\n",
       "    </tr>\n",
       "    <tr>\n",
       "      <th>84</th>\n",
       "      <td>53.0</td>\n",
       "      <td>F</td>\n",
       "      <td>nap</td>\n",
       "      <td>128.0</td>\n",
       "      <td>216.0</td>\n",
       "      <td>no</td>\n",
       "      <td>2.0</td>\n",
       "      <td>115.0</td>\n",
       "      <td>0.0</td>\n",
       "      <td>0.0</td>\n",
       "      <td>1.0</td>\n",
       "      <td>0.0</td>\n",
       "      <td>NaN</td>\n",
       "      <td>0.0</td>\n",
       "    </tr>\n",
       "    <tr>\n",
       "      <th>111</th>\n",
       "      <td>41.0</td>\n",
       "      <td>M</td>\n",
       "      <td>NaN</td>\n",
       "      <td>135.0</td>\n",
       "      <td>NaN</td>\n",
       "      <td>no</td>\n",
       "      <td>0.0</td>\n",
       "      <td>NaN</td>\n",
       "      <td>0.0</td>\n",
       "      <td>0.0</td>\n",
       "      <td>2.0</td>\n",
       "      <td>NaN</td>\n",
       "      <td>6.0</td>\n",
       "      <td>0.0</td>\n",
       "    </tr>\n",
       "    <tr>\n",
       "      <th>112</th>\n",
       "      <td>58.0</td>\n",
       "      <td>M</td>\n",
       "      <td>nap</td>\n",
       "      <td>140.0</td>\n",
       "      <td>211.0</td>\n",
       "      <td>yes</td>\n",
       "      <td>2.0</td>\n",
       "      <td>NaN</td>\n",
       "      <td>0.0</td>\n",
       "      <td>0.0</td>\n",
       "      <td>1.0</td>\n",
       "      <td>0.0</td>\n",
       "      <td>3.0</td>\n",
       "      <td>0.0</td>\n",
       "    </tr>\n",
       "    <tr>\n",
       "      <th>128</th>\n",
       "      <td>29.0</td>\n",
       "      <td>M</td>\n",
       "      <td>NaN</td>\n",
       "      <td>130.0</td>\n",
       "      <td>204.0</td>\n",
       "      <td>no</td>\n",
       "      <td>2.0</td>\n",
       "      <td>202.0</td>\n",
       "      <td>0.0</td>\n",
       "      <td>0.0</td>\n",
       "      <td>1.0</td>\n",
       "      <td>0.0</td>\n",
       "      <td>3.0</td>\n",
       "      <td>0.0</td>\n",
       "    </tr>\n",
       "    <tr>\n",
       "      <th>209</th>\n",
       "      <td>64.0</td>\n",
       "      <td>F</td>\n",
       "      <td>asp</td>\n",
       "      <td>130.0</td>\n",
       "      <td>303.0</td>\n",
       "      <td>no</td>\n",
       "      <td>0.0</td>\n",
       "      <td>NaN</td>\n",
       "      <td>0.0</td>\n",
       "      <td>2.0</td>\n",
       "      <td>2.0</td>\n",
       "      <td>2.0</td>\n",
       "      <td>3.0</td>\n",
       "      <td>0.0</td>\n",
       "    </tr>\n",
       "    <tr>\n",
       "      <th>214</th>\n",
       "      <td>53.0</td>\n",
       "      <td>M</td>\n",
       "      <td>asp</td>\n",
       "      <td>123.0</td>\n",
       "      <td>282.0</td>\n",
       "      <td>no</td>\n",
       "      <td>0.0</td>\n",
       "      <td>95.0</td>\n",
       "      <td>1.0</td>\n",
       "      <td>2.0</td>\n",
       "      <td>2.0</td>\n",
       "      <td>NaN</td>\n",
       "      <td>7.0</td>\n",
       "      <td>3.0</td>\n",
       "    </tr>\n",
       "    <tr>\n",
       "      <th>219</th>\n",
       "      <td>54.0</td>\n",
       "      <td>M</td>\n",
       "      <td>asp</td>\n",
       "      <td>110.0</td>\n",
       "      <td>NaN</td>\n",
       "      <td>no</td>\n",
       "      <td>2.0</td>\n",
       "      <td>108.0</td>\n",
       "      <td>1.0</td>\n",
       "      <td>0.0</td>\n",
       "      <td>2.0</td>\n",
       "      <td>1.0</td>\n",
       "      <td>3.0</td>\n",
       "      <td>3.0</td>\n",
       "    </tr>\n",
       "    <tr>\n",
       "      <th>257</th>\n",
       "      <td>52.0</td>\n",
       "      <td>M</td>\n",
       "      <td>asp</td>\n",
       "      <td>128.0</td>\n",
       "      <td>204.0</td>\n",
       "      <td>yes</td>\n",
       "      <td>0.0</td>\n",
       "      <td>156.0</td>\n",
       "      <td>1.0</td>\n",
       "      <td>1.0</td>\n",
       "      <td>2.0</td>\n",
       "      <td>0.0</td>\n",
       "      <td>NaN</td>\n",
       "      <td>2.0</td>\n",
       "    </tr>\n",
       "    <tr>\n",
       "      <th>281</th>\n",
       "      <td>67.0</td>\n",
       "      <td>M</td>\n",
       "      <td>nap</td>\n",
       "      <td>152.0</td>\n",
       "      <td>212.0</td>\n",
       "      <td>no</td>\n",
       "      <td>2.0</td>\n",
       "      <td>NaN</td>\n",
       "      <td>0.0</td>\n",
       "      <td>0.8</td>\n",
       "      <td>2.0</td>\n",
       "      <td>0.0</td>\n",
       "      <td>7.0</td>\n",
       "      <td>1.0</td>\n",
       "    </tr>\n",
       "    <tr>\n",
       "      <th>292</th>\n",
       "      <td>38.0</td>\n",
       "      <td>M</td>\n",
       "      <td>nap</td>\n",
       "      <td>138.0</td>\n",
       "      <td>175.0</td>\n",
       "      <td>no</td>\n",
       "      <td>0.0</td>\n",
       "      <td>173.0</td>\n",
       "      <td>0.0</td>\n",
       "      <td>0.0</td>\n",
       "      <td>1.0</td>\n",
       "      <td>NaN</td>\n",
       "      <td>3.0</td>\n",
       "      <td>0.0</td>\n",
       "    </tr>\n",
       "  </tbody>\n",
       "</table>\n",
       "</div>"
      ],
      "text/plain": [
       "      age sex   cp  trestbps   chol  fbs  restecg  thalach  exang  oldpeak  \\\n",
       "6    62.0   F  NaN     140.0  268.0   no      2.0    160.0    0.0      3.6   \n",
       "84   53.0   F  nap     128.0  216.0   no      2.0    115.0    0.0      0.0   \n",
       "111  41.0   M  NaN     135.0    NaN   no      0.0      NaN    0.0      0.0   \n",
       "112  58.0   M  nap     140.0  211.0  yes      2.0      NaN    0.0      0.0   \n",
       "128  29.0   M  NaN     130.0  204.0   no      2.0    202.0    0.0      0.0   \n",
       "209  64.0   F  asp     130.0  303.0   no      0.0      NaN    0.0      2.0   \n",
       "214  53.0   M  asp     123.0  282.0   no      0.0     95.0    1.0      2.0   \n",
       "219  54.0   M  asp     110.0    NaN   no      2.0    108.0    1.0      0.0   \n",
       "257  52.0   M  asp     128.0  204.0  yes      0.0    156.0    1.0      1.0   \n",
       "281  67.0   M  nap     152.0  212.0   no      2.0      NaN    0.0      0.8   \n",
       "292  38.0   M  nap     138.0  175.0   no      0.0    173.0    0.0      0.0   \n",
       "\n",
       "     slope   ca  thal  state  \n",
       "6      3.0  2.0   3.0    3.0  \n",
       "84     1.0  0.0   NaN    0.0  \n",
       "111    2.0  NaN   6.0    0.0  \n",
       "112    1.0  0.0   3.0    0.0  \n",
       "128    1.0  0.0   3.0    0.0  \n",
       "209    2.0  2.0   3.0    0.0  \n",
       "214    2.0  NaN   7.0    3.0  \n",
       "219    2.0  1.0   3.0    3.0  \n",
       "257    2.0  0.0   NaN    2.0  \n",
       "281    2.0  0.0   7.0    1.0  \n",
       "292    1.0  NaN   3.0    0.0  "
      ]
     },
     "execution_count": 13,
     "metadata": {},
     "output_type": "execute_result"
    }
   ],
   "source": [
    "#display rows that have got missing values\n",
    "heartdf2[heartdf2.isnull().any(axis=1)] "
   ]
  },
  {
   "cell_type": "code",
   "execution_count": 14,
   "metadata": {},
   "outputs": [
    {
     "name": "stdout",
     "output_type": "stream",
     "text": [
      "Feature Median Before Replacing Missing Value\n"
     ]
    },
    {
     "data": {
      "text/plain": [
       "age          55.0\n",
       "trestbps    130.0\n",
       "chol        243.0\n",
       "restecg       1.0\n",
       "thalach     153.0\n",
       "exang         0.0\n",
       "oldpeak       0.7\n",
       "slope         2.0\n",
       "ca            0.0\n",
       "thal          3.0\n",
       "state         0.0\n",
       "dtype: float64"
      ]
     },
     "execution_count": 14,
     "metadata": {},
     "output_type": "execute_result"
    }
   ],
   "source": [
    "#Median before replacing missing values\n",
    "print(\"Feature Median Before Replacing Missing Value\")\n",
    "heartdf2.median(axis=None, skipna=None)"
   ]
  },
  {
   "cell_type": "code",
   "execution_count": 15,
   "metadata": {},
   "outputs": [],
   "source": [
    "#dropping rows with missing values in cp, ca & thal as these are considered categorical variables\n",
    "heartdf2 = heartdf2.dropna(subset=['cp', 'ca', 'thal'])\n"
   ]
  },
  {
   "cell_type": "code",
   "execution_count": 16,
   "metadata": {},
   "outputs": [],
   "source": [
    "heartdf2 = heartdf2.reset_index(drop=True)"
   ]
  },
  {
   "cell_type": "code",
   "execution_count": 17,
   "metadata": {},
   "outputs": [
    {
     "data": {
      "text/html": [
       "<div>\n",
       "<style scoped>\n",
       "    .dataframe tbody tr th:only-of-type {\n",
       "        vertical-align: middle;\n",
       "    }\n",
       "\n",
       "    .dataframe tbody tr th {\n",
       "        vertical-align: top;\n",
       "    }\n",
       "\n",
       "    .dataframe thead th {\n",
       "        text-align: right;\n",
       "    }\n",
       "</style>\n",
       "<table border=\"1\" class=\"dataframe\">\n",
       "  <thead>\n",
       "    <tr style=\"text-align: right;\">\n",
       "      <th></th>\n",
       "      <th>age</th>\n",
       "      <th>sex</th>\n",
       "      <th>cp</th>\n",
       "      <th>trestbps</th>\n",
       "      <th>chol</th>\n",
       "      <th>fbs</th>\n",
       "      <th>restecg</th>\n",
       "      <th>thalach</th>\n",
       "      <th>exang</th>\n",
       "      <th>oldpeak</th>\n",
       "      <th>slope</th>\n",
       "      <th>ca</th>\n",
       "      <th>thal</th>\n",
       "      <th>state</th>\n",
       "    </tr>\n",
       "  </thead>\n",
       "  <tbody>\n",
       "    <tr>\n",
       "      <th>109</th>\n",
       "      <td>58.0</td>\n",
       "      <td>M</td>\n",
       "      <td>nap</td>\n",
       "      <td>140.0</td>\n",
       "      <td>211.0</td>\n",
       "      <td>yes</td>\n",
       "      <td>2.0</td>\n",
       "      <td>NaN</td>\n",
       "      <td>0.0</td>\n",
       "      <td>0.0</td>\n",
       "      <td>1.0</td>\n",
       "      <td>0.0</td>\n",
       "      <td>3.0</td>\n",
       "      <td>0.0</td>\n",
       "    </tr>\n",
       "    <tr>\n",
       "      <th>205</th>\n",
       "      <td>64.0</td>\n",
       "      <td>F</td>\n",
       "      <td>asp</td>\n",
       "      <td>130.0</td>\n",
       "      <td>303.0</td>\n",
       "      <td>no</td>\n",
       "      <td>0.0</td>\n",
       "      <td>NaN</td>\n",
       "      <td>0.0</td>\n",
       "      <td>2.0</td>\n",
       "      <td>2.0</td>\n",
       "      <td>2.0</td>\n",
       "      <td>3.0</td>\n",
       "      <td>0.0</td>\n",
       "    </tr>\n",
       "    <tr>\n",
       "      <th>214</th>\n",
       "      <td>54.0</td>\n",
       "      <td>M</td>\n",
       "      <td>asp</td>\n",
       "      <td>110.0</td>\n",
       "      <td>NaN</td>\n",
       "      <td>no</td>\n",
       "      <td>2.0</td>\n",
       "      <td>108.0</td>\n",
       "      <td>1.0</td>\n",
       "      <td>0.0</td>\n",
       "      <td>2.0</td>\n",
       "      <td>1.0</td>\n",
       "      <td>3.0</td>\n",
       "      <td>3.0</td>\n",
       "    </tr>\n",
       "    <tr>\n",
       "      <th>275</th>\n",
       "      <td>67.0</td>\n",
       "      <td>M</td>\n",
       "      <td>nap</td>\n",
       "      <td>152.0</td>\n",
       "      <td>212.0</td>\n",
       "      <td>no</td>\n",
       "      <td>2.0</td>\n",
       "      <td>NaN</td>\n",
       "      <td>0.0</td>\n",
       "      <td>0.8</td>\n",
       "      <td>2.0</td>\n",
       "      <td>0.0</td>\n",
       "      <td>7.0</td>\n",
       "      <td>1.0</td>\n",
       "    </tr>\n",
       "  </tbody>\n",
       "</table>\n",
       "</div>"
      ],
      "text/plain": [
       "      age sex   cp  trestbps   chol  fbs  restecg  thalach  exang  oldpeak  \\\n",
       "109  58.0   M  nap     140.0  211.0  yes      2.0      NaN    0.0      0.0   \n",
       "205  64.0   F  asp     130.0  303.0   no      0.0      NaN    0.0      2.0   \n",
       "214  54.0   M  asp     110.0    NaN   no      2.0    108.0    1.0      0.0   \n",
       "275  67.0   M  nap     152.0  212.0   no      2.0      NaN    0.0      0.8   \n",
       "\n",
       "     slope   ca  thal  state  \n",
       "109    1.0  0.0   3.0    0.0  \n",
       "205    2.0  2.0   3.0    0.0  \n",
       "214    2.0  1.0   3.0    3.0  \n",
       "275    2.0  0.0   7.0    1.0  "
      ]
     },
     "execution_count": 17,
     "metadata": {},
     "output_type": "execute_result"
    }
   ],
   "source": [
    "heartdf2[heartdf2.isnull().any(axis=1)] "
   ]
  },
  {
   "cell_type": "code",
   "execution_count": 18,
   "metadata": {},
   "outputs": [],
   "source": [
    "#replacing NA in chol and thalach with lowest value as these are continuos variables\n",
    "heartdf2['chol'].fillna(value=heartdf2['chol'].min(), inplace=True)\n",
    "heartdf2['thalach'].fillna(value=heartdf2['thalach'].min(), inplace=True)"
   ]
  },
  {
   "cell_type": "code",
   "execution_count": 19,
   "metadata": {},
   "outputs": [
    {
     "name": "stdout",
     "output_type": "stream",
     "text": [
      "Feature Median After Replacing Missing Values\n"
     ]
    },
    {
     "data": {
      "text/plain": [
       "age          56.00\n",
       "trestbps    130.00\n",
       "chol        243.00\n",
       "restecg       1.00\n",
       "thalach     152.00\n",
       "exang         0.00\n",
       "oldpeak       0.75\n",
       "slope         2.00\n",
       "ca            0.00\n",
       "thal          3.00\n",
       "state         0.00\n",
       "dtype: float64"
      ]
     },
     "execution_count": 19,
     "metadata": {},
     "output_type": "execute_result"
    }
   ],
   "source": [
    "#Median after replacing missing values\n",
    "print(\"Feature Median After Replacing Missing Values\")\n",
    "heartdf2.median(axis=None, skipna=None)"
   ]
  },
  {
   "cell_type": "markdown",
   "metadata": {},
   "source": [
    "### 3. Continue from question 2. Is there any change in data type? If yes, convert them back to appropriate data types. Print all variables with corresponding data type."
   ]
  },
  {
   "cell_type": "code",
   "execution_count": 20,
   "metadata": {},
   "outputs": [
    {
     "name": "stdout",
     "output_type": "stream",
     "text": [
      "<class 'pandas.core.frame.DataFrame'>\n",
      "RangeIndex: 286 entries, 0 to 285\n",
      "Data columns (total 14 columns):\n",
      " #   Column    Non-Null Count  Dtype  \n",
      "---  ------    --------------  -----  \n",
      " 0   age       286 non-null    float64\n",
      " 1   sex       286 non-null    object \n",
      " 2   cp        286 non-null    object \n",
      " 3   trestbps  286 non-null    float64\n",
      " 4   chol      286 non-null    float64\n",
      " 5   fbs       286 non-null    object \n",
      " 6   restecg   286 non-null    float64\n",
      " 7   thalach   286 non-null    float64\n",
      " 8   exang     286 non-null    float64\n",
      " 9   oldpeak   286 non-null    float64\n",
      " 10  slope     286 non-null    float64\n",
      " 11  ca        286 non-null    float64\n",
      " 12  thal      286 non-null    float64\n",
      " 13  state     286 non-null    float64\n",
      "dtypes: float64(11), object(3)\n",
      "memory usage: 31.4+ KB\n"
     ]
    }
   ],
   "source": [
    "#check data types\n",
    "heartdf2.info()"
   ]
  },
  {
   "cell_type": "code",
   "execution_count": 21,
   "metadata": {},
   "outputs": [
    {
     "name": "stdout",
     "output_type": "stream",
     "text": [
      "{'age': [<class 'float'>], 'sex': [<class 'str'>], 'cp': [<class 'str'>], 'trestbps': [<class 'float'>], 'chol': [<class 'float'>], 'fbs': [<class 'str'>], 'restecg': [<class 'float'>], 'thalach': [<class 'float'>], 'exang': [<class 'float'>], 'oldpeak': [<class 'float'>], 'slope': [<class 'float'>], 'ca': [<class 'float'>], 'thal': [<class 'float'>], 'state': [<class 'float'>]}\n"
     ]
    }
   ],
   "source": [
    "#function to identify data types class - need to use before and after changing data type\n",
    "def df_dtype(heartdf2): \n",
    "    return {col: heartdf2[col].apply(lambda x: type(x)).unique().tolist() for col in heartdf2.columns}\n",
    "\n",
    "df_types = df_dtype(heartdf2)\n",
    "print(df_types)\n",
    "\n",
    "\n"
   ]
  },
  {
   "cell_type": "code",
   "execution_count": 22,
   "metadata": {},
   "outputs": [],
   "source": [
    "#age, restecg exang, ca, thal & state are integers in the datafile, so change from float to integer\n",
    "\n",
    "cols = ['age','restecg', 'exang', 'slope','ca', 'thal', 'state' ]\n",
    "for col in cols:\n",
    "    heartdf2[col] =heartdf2[col].apply(lambda x: int(x) if x == x else \"\")\n",
    "   "
   ]
  },
  {
   "cell_type": "code",
   "execution_count": 23,
   "metadata": {},
   "outputs": [
    {
     "name": "stdout",
     "output_type": "stream",
     "text": [
      "{'age': [<class 'int'>], 'sex': [<class 'str'>], 'cp': [<class 'str'>], 'trestbps': [<class 'float'>], 'chol': [<class 'float'>], 'fbs': [<class 'str'>], 'restecg': [<class 'int'>], 'thalach': [<class 'float'>], 'exang': [<class 'int'>], 'oldpeak': [<class 'float'>], 'slope': [<class 'int'>], 'ca': [<class 'int'>], 'thal': [<class 'int'>], 'state': [<class 'int'>]}\n"
     ]
    }
   ],
   "source": [
    "df_types = df_dtype(heartdf2)\n",
    "print(df_types)"
   ]
  },
  {
   "cell_type": "code",
   "execution_count": 24,
   "metadata": {},
   "outputs": [
    {
     "name": "stdout",
     "output_type": "stream",
     "text": [
      "<class 'pandas.core.frame.DataFrame'>\n",
      "RangeIndex: 286 entries, 0 to 285\n",
      "Data columns (total 14 columns):\n",
      " #   Column    Non-Null Count  Dtype  \n",
      "---  ------    --------------  -----  \n",
      " 0   age       286 non-null    int64  \n",
      " 1   sex       286 non-null    object \n",
      " 2   cp        286 non-null    object \n",
      " 3   trestbps  286 non-null    float64\n",
      " 4   chol      286 non-null    float64\n",
      " 5   fbs       286 non-null    object \n",
      " 6   restecg   286 non-null    int64  \n",
      " 7   thalach   286 non-null    float64\n",
      " 8   exang     286 non-null    int64  \n",
      " 9   oldpeak   286 non-null    float64\n",
      " 10  slope     286 non-null    int64  \n",
      " 11  ca        286 non-null    int64  \n",
      " 12  thal      286 non-null    int64  \n",
      " 13  state     286 non-null    int64  \n",
      "dtypes: float64(4), int64(7), object(3)\n",
      "memory usage: 31.4+ KB\n"
     ]
    }
   ],
   "source": [
    "heartdf2.info() #print variables with data type after conversion"
   ]
  },
  {
   "cell_type": "markdown",
   "metadata": {},
   "source": [
    "### 4. Continue from question 3. Print the total numbers and ration of male and female patients who are at highest risk of heart disease"
   ]
  },
  {
   "cell_type": "code",
   "execution_count": 25,
   "metadata": {},
   "outputs": [],
   "source": [
    "#any observations where state is 4, I've considered as highest risk\n",
    "sexdf = pd.pivot_table(heartdf2[heartdf2.state == 4], columns = 'sex', aggfunc={\"state\":len})\n"
   ]
  },
  {
   "cell_type": "code",
   "execution_count": 26,
   "metadata": {},
   "outputs": [
    {
     "data": {
      "text/plain": [
       "2"
      ]
     },
     "execution_count": 26,
     "metadata": {},
     "output_type": "execute_result"
    }
   ],
   "source": [
    "f = sexdf['F'].sum()\n",
    "f"
   ]
  },
  {
   "cell_type": "code",
   "execution_count": 27,
   "metadata": {},
   "outputs": [
    {
     "data": {
      "text/plain": [
       "11"
      ]
     },
     "execution_count": 27,
     "metadata": {},
     "output_type": "execute_result"
    }
   ],
   "source": [
    "m = sexdf['M'].sum()\n",
    "m"
   ]
  },
  {
   "cell_type": "code",
   "execution_count": 28,
   "metadata": {},
   "outputs": [
    {
     "name": "stdout",
     "output_type": "stream",
     "text": [
      "the number of females at high risk is 2\n",
      "the ration of females at high risk is 15.38%\n",
      " \n",
      "the number of males at high risk is 11\n",
      "the ration of males at high risk is 84.62%\n"
     ]
    }
   ],
   "source": [
    "Female = f\n",
    "Male = m\n",
    "\n",
    "Female_Ration = round((Female/(Female + Male))*100,2)\n",
    "Male_Ration = round((Male/(Female + Male))*100,2)\n",
    "\n",
    "print(\"the number of females at high risk is \" + str(Female))\n",
    "print(\"the ration of females at high risk is \" + str(Female_Ration)+\"%\")\n",
    "print(\" \")\n",
    "print(\"the number of males at high risk is \" + str(Male))\n",
    "print(\"the ration of males at high risk is \" + str(Male_Ration)+\"%\")"
   ]
  },
  {
   "cell_type": "markdown",
   "metadata": {},
   "source": [
    "### 5. Continue from question 3. Is there any association between heart rate and severity of heart disease? Explain your results from given dataset."
   ]
  },
  {
   "cell_type": "code",
   "execution_count": 29,
   "metadata": {},
   "outputs": [
    {
     "data": {
      "text/plain": [
       "-0.37566675636012486"
      ]
     },
     "execution_count": 29,
     "metadata": {},
     "output_type": "execute_result"
    }
   ],
   "source": [
    "#calculate correlation between thalach & thal\n",
    "\n",
    "thalach = heartdf2['thalach']\n",
    "state = heartdf2['state']\n",
    "correlation = thalach.corr(state)\n",
    "correlation"
   ]
  },
  {
   "cell_type": "code",
   "execution_count": 30,
   "metadata": {},
   "outputs": [
    {
     "data": {
      "image/png": "[encoded data removed]",
      "text/plain": [
       "<Figure size 576x576 with 6 Axes>"
      ]
     },
     "metadata": {
      "needs_background": "light"
     },
     "output_type": "display_data"
    }
   ],
   "source": [
    "sev = heartdf2[['thalach', 'state']]\n",
    "sns.pairplot(sev, kind=\"scatter\",height=4, aspect=4/4)\n",
    "plt.show()"
   ]
  },
  {
   "cell_type": "markdown",
   "metadata": {},
   "source": [
    "From the correlation result of -0.37, we can confidently say there is no strong relationship between the heart rate and severity of the heart disease. This can also be viewed when the data for these 2 features are visualised, there is no identifiable relationship in the scatter plots."
   ]
  },
  {
   "cell_type": "markdown",
   "metadata": {},
   "source": [
    "### 6. Continue from question 3. Print the average cholesterol level for different number of blocked blood vessels across gender. Please report the pattern found in the result, if any."
   ]
  },
  {
   "cell_type": "code",
   "execution_count": 31,
   "metadata": {},
   "outputs": [
    {
     "name": "stdout",
     "output_type": "stream",
     "text": [
      "ca  sex\n",
      "0   F      256.587302\n",
      "    M      236.149533\n",
      "1   F      271.785714\n",
      "    M      241.312500\n",
      "2   F      275.454545\n",
      "    M      244.208333\n",
      "3   F      272.500000\n",
      "    M      264.866667\n",
      "Name: chol, dtype: float64\n"
     ]
    }
   ],
   "source": [
    "chol = heartdf2.groupby(['ca', 'sex'], as_index = True).chol.mean()\n",
    "print(chol)"
   ]
  },
  {
   "cell_type": "markdown",
   "metadata": {},
   "source": [
    "Overall Females has a higher average cholestrol levels compared to males. With males, the cholestrol level is similar when there is 2 or less blocked vessels, and there is a big increase in cholestrol levels when there are 3 blocked vessels, this is the opposite for females where the cholestrol level drops a little when there are 3 blocked vessels, but from 0-2 there is an increase."
   ]
  },
  {
   "cell_type": "markdown",
   "metadata": {},
   "source": [
    "### 7. Print the percentage of patients at risk of heart disease having abnormality in both ECG and blood sugar with asymptomatic chest pain."
   ]
  },
  {
   "cell_type": "code",
   "execution_count": 32,
   "metadata": {},
   "outputs": [
    {
     "data": {
      "text/plain": [
       "286"
      ]
     },
     "execution_count": 32,
     "metadata": {},
     "output_type": "execute_result"
    }
   ],
   "source": [
    "x = len(heartdf2)\n",
    "x"
   ]
  },
  {
   "cell_type": "code",
   "execution_count": 33,
   "metadata": {},
   "outputs": [],
   "source": [
    "ecgdf = heartdf2[(heartdf2[\"restecg\"] > 0) & (heartdf2[\"cp\"] == \"asp\") & (heartdf2[\"fbs\"] == \"yes\")& (heartdf2[\"state\"] > 0)]"
   ]
  },
  {
   "cell_type": "code",
   "execution_count": 34,
   "metadata": {},
   "outputs": [
    {
     "data": {
      "text/plain": [
       "11"
      ]
     },
     "execution_count": 34,
     "metadata": {},
     "output_type": "execute_result"
    }
   ],
   "source": [
    "y = len(ecgdf)\n",
    "y"
   ]
  },
  {
   "cell_type": "code",
   "execution_count": 35,
   "metadata": {},
   "outputs": [
    {
     "name": "stdout",
     "output_type": "stream",
     "text": [
      "The % of patients at high risk of heart disease with ECG & Blood Sugar abnormalities & asymptomatic chest pain is 3.85%\n"
     ]
    }
   ],
   "source": [
    "#calculate % of patients having both ECH & blood sugar abnormalities comapred to the total dataframe\n",
    "\n",
    "ecg = round((y/x)*100,2)\n",
    "\n",
    "\n",
    "print(\"The % of patients at high risk of heart disease with ECG & Blood Sugar abnormalities & asymptomatic chest pain is \" + \n",
    "     str(ecg) +\"%\")"
   ]
  },
  {
   "cell_type": "markdown",
   "metadata": {},
   "source": [
    "### 8. Calculate and print the average blood pressure of all observations with non-flat ST slopes of ECG."
   ]
  },
  {
   "cell_type": "code",
   "execution_count": 36,
   "metadata": {},
   "outputs": [
    {
     "data": {
      "text/plain": [
       "slope\n",
       "1    136\n",
       "3     19\n",
       "dtype: int64"
      ]
     },
     "execution_count": 36,
     "metadata": {},
     "output_type": "execute_result"
    }
   ],
   "source": [
    "ST = heartdf2[(heartdf2[\"slope\"] != 2)]\n",
    "ST.value_counts('slope')"
   ]
  },
  {
   "cell_type": "code",
   "execution_count": 37,
   "metadata": {},
   "outputs": [
    {
     "name": "stdout",
     "output_type": "stream",
     "text": [
      "The average blood pressure by slope type\n"
     ]
    },
    {
     "data": {
      "text/html": [
       "<div>\n",
       "<style scoped>\n",
       "    .dataframe tbody tr th:only-of-type {\n",
       "        vertical-align: middle;\n",
       "    }\n",
       "\n",
       "    .dataframe tbody tr th {\n",
       "        vertical-align: top;\n",
       "    }\n",
       "\n",
       "    .dataframe thead th {\n",
       "        text-align: right;\n",
       "    }\n",
       "</style>\n",
       "<table border=\"1\" class=\"dataframe\">\n",
       "  <thead>\n",
       "    <tr style=\"text-align: right;\">\n",
       "      <th>slope</th>\n",
       "      <th>1</th>\n",
       "      <th>3</th>\n",
       "    </tr>\n",
       "  </thead>\n",
       "  <tbody>\n",
       "    <tr>\n",
       "      <th>trestbps</th>\n",
       "      <td>129.566176</td>\n",
       "      <td>141.0</td>\n",
       "    </tr>\n",
       "  </tbody>\n",
       "</table>\n",
       "</div>"
      ],
      "text/plain": [
       "slope              1      3\n",
       "trestbps  129.566176  141.0"
      ]
     },
     "execution_count": 37,
     "metadata": {},
     "output_type": "execute_result"
    }
   ],
   "source": [
    "print('The average blood pressure by slope type')\n",
    "\n",
    "pd.pivot_table(ST, columns=['slope'], aggfunc={\"trestbps\":np.mean})"
   ]
  },
  {
   "cell_type": "code",
   "execution_count": 38,
   "metadata": {},
   "outputs": [
    {
     "name": "stdout",
     "output_type": "stream",
     "text": [
      "the average blood pressure for non-flat slope type is 130.97\n"
     ]
    }
   ],
   "source": [
    "all_mean = ST['trestbps'].mean()\n",
    "\n",
    "all_mean = round(all_mean,2)\n",
    "\n",
    "print(\"the average blood pressure for non-flat slope type is \" + str(all_mean))\n",
    "\n"
   ]
  },
  {
   "cell_type": "markdown",
   "metadata": {},
   "source": [
    "### 9. Create and print a dataframe of the heart rate, blood pressure and cholesterol levels for different age groups (based on 10 years interval)."
   ]
  },
  {
   "cell_type": "code",
   "execution_count": null,
   "metadata": {},
   "outputs": [],
   "source": [
    "min_a = int(np.ceil(heartdf2['age'].min()))\n",
    "max_a = int(np.ceil(heartdf2['age'].max()))\n",
    "\n",
    "\n",
    "print(min_a)\n",
    "print(max_a)\n"
   ]
  },
  {
   "cell_type": "code",
   "execution_count": 40,
   "metadata": {},
   "outputs": [
    {
     "name": "stdout",
     "output_type": "stream",
     "text": [
      "[30, 40, 50, 60, 70, 80]\n"
     ]
    }
   ],
   "source": [
    "t_bins = [i for i in range(min_a-4, max_a+10, 10)]\n",
    "\n",
    "print(t_bins)\n"
   ]
  },
  {
   "cell_type": "code",
   "execution_count": 41,
   "metadata": {},
   "outputs": [
    {
     "data": {
      "text/html": [
       "<div>\n",
       "<style scoped>\n",
       "    .dataframe tbody tr th:only-of-type {\n",
       "        vertical-align: middle;\n",
       "    }\n",
       "\n",
       "    .dataframe tbody tr th {\n",
       "        vertical-align: top;\n",
       "    }\n",
       "\n",
       "    .dataframe thead th {\n",
       "        text-align: right;\n",
       "    }\n",
       "</style>\n",
       "<table border=\"1\" class=\"dataframe\">\n",
       "  <thead>\n",
       "    <tr style=\"text-align: right;\">\n",
       "      <th></th>\n",
       "      <th>age</th>\n",
       "      <th>sex</th>\n",
       "      <th>cp</th>\n",
       "      <th>trestbps</th>\n",
       "      <th>chol</th>\n",
       "      <th>fbs</th>\n",
       "      <th>restecg</th>\n",
       "      <th>thalach</th>\n",
       "      <th>exang</th>\n",
       "      <th>oldpeak</th>\n",
       "      <th>slope</th>\n",
       "      <th>ca</th>\n",
       "      <th>thal</th>\n",
       "      <th>state</th>\n",
       "      <th>age_bin</th>\n",
       "    </tr>\n",
       "  </thead>\n",
       "  <tbody>\n",
       "    <tr>\n",
       "      <th>0</th>\n",
       "      <td>63</td>\n",
       "      <td>M</td>\n",
       "      <td>tap</td>\n",
       "      <td>145.0</td>\n",
       "      <td>233.0</td>\n",
       "      <td>yes</td>\n",
       "      <td>2</td>\n",
       "      <td>150.0</td>\n",
       "      <td>0</td>\n",
       "      <td>2.3</td>\n",
       "      <td>3</td>\n",
       "      <td>0</td>\n",
       "      <td>6</td>\n",
       "      <td>0</td>\n",
       "      <td>(60, 70]</td>\n",
       "    </tr>\n",
       "    <tr>\n",
       "      <th>1</th>\n",
       "      <td>67</td>\n",
       "      <td>M</td>\n",
       "      <td>asp</td>\n",
       "      <td>160.0</td>\n",
       "      <td>286.0</td>\n",
       "      <td>no</td>\n",
       "      <td>2</td>\n",
       "      <td>108.0</td>\n",
       "      <td>1</td>\n",
       "      <td>1.5</td>\n",
       "      <td>2</td>\n",
       "      <td>3</td>\n",
       "      <td>3</td>\n",
       "      <td>2</td>\n",
       "      <td>(60, 70]</td>\n",
       "    </tr>\n",
       "    <tr>\n",
       "      <th>2</th>\n",
       "      <td>67</td>\n",
       "      <td>M</td>\n",
       "      <td>asp</td>\n",
       "      <td>120.0</td>\n",
       "      <td>229.0</td>\n",
       "      <td>no</td>\n",
       "      <td>2</td>\n",
       "      <td>129.0</td>\n",
       "      <td>1</td>\n",
       "      <td>2.6</td>\n",
       "      <td>2</td>\n",
       "      <td>2</td>\n",
       "      <td>7</td>\n",
       "      <td>1</td>\n",
       "      <td>(60, 70]</td>\n",
       "    </tr>\n",
       "    <tr>\n",
       "      <th>3</th>\n",
       "      <td>37</td>\n",
       "      <td>M</td>\n",
       "      <td>nap</td>\n",
       "      <td>130.0</td>\n",
       "      <td>250.0</td>\n",
       "      <td>no</td>\n",
       "      <td>0</td>\n",
       "      <td>187.0</td>\n",
       "      <td>0</td>\n",
       "      <td>3.5</td>\n",
       "      <td>3</td>\n",
       "      <td>0</td>\n",
       "      <td>3</td>\n",
       "      <td>0</td>\n",
       "      <td>(30, 40]</td>\n",
       "    </tr>\n",
       "    <tr>\n",
       "      <th>4</th>\n",
       "      <td>41</td>\n",
       "      <td>F</td>\n",
       "      <td>aap</td>\n",
       "      <td>130.0</td>\n",
       "      <td>204.0</td>\n",
       "      <td>no</td>\n",
       "      <td>2</td>\n",
       "      <td>172.0</td>\n",
       "      <td>0</td>\n",
       "      <td>1.4</td>\n",
       "      <td>1</td>\n",
       "      <td>0</td>\n",
       "      <td>3</td>\n",
       "      <td>0</td>\n",
       "      <td>(40, 50]</td>\n",
       "    </tr>\n",
       "  </tbody>\n",
       "</table>\n",
       "</div>"
      ],
      "text/plain": [
       "   age sex   cp  trestbps   chol  fbs  restecg  thalach  exang  oldpeak  \\\n",
       "0   63   M  tap     145.0  233.0  yes        2    150.0      0      2.3   \n",
       "1   67   M  asp     160.0  286.0   no        2    108.0      1      1.5   \n",
       "2   67   M  asp     120.0  229.0   no        2    129.0      1      2.6   \n",
       "3   37   M  nap     130.0  250.0   no        0    187.0      0      3.5   \n",
       "4   41   F  aap     130.0  204.0   no        2    172.0      0      1.4   \n",
       "\n",
       "   slope  ca  thal  state   age_bin  \n",
       "0      3   0     6      0  (60, 70]  \n",
       "1      2   3     3      2  (60, 70]  \n",
       "2      2   2     7      1  (60, 70]  \n",
       "3      3   0     3      0  (30, 40]  \n",
       "4      1   0     3      0  (40, 50]  "
      ]
     },
     "execution_count": 41,
     "metadata": {},
     "output_type": "execute_result"
    }
   ],
   "source": [
    "heartdf2['age_bin'] = pd.cut(x=heartdf2['age'], bins=t_bins)\n",
    "heartdf2.head()\n"
   ]
  },
  {
   "cell_type": "code",
   "execution_count": 42,
   "metadata": {},
   "outputs": [
    {
     "data": {
      "text/html": [
       "<div>\n",
       "<style scoped>\n",
       "    .dataframe tbody tr th:only-of-type {\n",
       "        vertical-align: middle;\n",
       "    }\n",
       "\n",
       "    .dataframe tbody tr th {\n",
       "        vertical-align: top;\n",
       "    }\n",
       "\n",
       "    .dataframe thead th {\n",
       "        text-align: right;\n",
       "    }\n",
       "</style>\n",
       "<table border=\"1\" class=\"dataframe\">\n",
       "  <thead>\n",
       "    <tr style=\"text-align: right;\">\n",
       "      <th></th>\n",
       "      <th>chol</th>\n",
       "      <th>thalach</th>\n",
       "      <th>trestbps</th>\n",
       "    </tr>\n",
       "    <tr>\n",
       "      <th>age_bin</th>\n",
       "      <th></th>\n",
       "      <th></th>\n",
       "      <th></th>\n",
       "    </tr>\n",
       "  </thead>\n",
       "  <tbody>\n",
       "    <tr>\n",
       "      <th>(30, 40]</th>\n",
       "      <td>218.187500</td>\n",
       "      <td>167.062500</td>\n",
       "      <td>125.250000</td>\n",
       "    </tr>\n",
       "    <tr>\n",
       "      <th>(40, 50]</th>\n",
       "      <td>237.465753</td>\n",
       "      <td>158.726027</td>\n",
       "      <td>124.082192</td>\n",
       "    </tr>\n",
       "    <tr>\n",
       "      <th>(50, 60]</th>\n",
       "      <td>249.813008</td>\n",
       "      <td>148.097561</td>\n",
       "      <td>133.845528</td>\n",
       "    </tr>\n",
       "    <tr>\n",
       "      <th>(60, 70]</th>\n",
       "      <td>260.823529</td>\n",
       "      <td>137.544118</td>\n",
       "      <td>136.235294</td>\n",
       "    </tr>\n",
       "    <tr>\n",
       "      <th>(70, 80]</th>\n",
       "      <td>247.666667</td>\n",
       "      <td>136.000000</td>\n",
       "      <td>127.833333</td>\n",
       "    </tr>\n",
       "  </tbody>\n",
       "</table>\n",
       "</div>"
      ],
      "text/plain": [
       "                chol     thalach    trestbps\n",
       "age_bin                                     \n",
       "(30, 40]  218.187500  167.062500  125.250000\n",
       "(40, 50]  237.465753  158.726027  124.082192\n",
       "(50, 60]  249.813008  148.097561  133.845528\n",
       "(60, 70]  260.823529  137.544118  136.235294\n",
       "(70, 80]  247.666667  136.000000  127.833333"
      ]
     },
     "execution_count": 42,
     "metadata": {},
     "output_type": "execute_result"
    }
   ],
   "source": [
    "table1 = pd.pivot_table(heartdf2, values = ['thalach', 'trestbps', 'chol'], index=['age_bin'], aggfunc={'thalach':np.mean, 'trestbps':np.mean, 'chol':np.mean})\n",
    "\n",
    "table1\n"
   ]
  },
  {
   "cell_type": "markdown",
   "metadata": {},
   "source": [
    "### 10. Continue from question 3. Find the average cholesterol level of across gender for each age group. Please explain the results."
   ]
  },
  {
   "cell_type": "code",
   "execution_count": 43,
   "metadata": {},
   "outputs": [
    {
     "data": {
      "text/html": [
       "<div>\n",
       "<style scoped>\n",
       "    .dataframe tbody tr th:only-of-type {\n",
       "        vertical-align: middle;\n",
       "    }\n",
       "\n",
       "    .dataframe tbody tr th {\n",
       "        vertical-align: top;\n",
       "    }\n",
       "\n",
       "    .dataframe thead tr th {\n",
       "        text-align: left;\n",
       "    }\n",
       "\n",
       "    .dataframe thead tr:last-of-type th {\n",
       "        text-align: right;\n",
       "    }\n",
       "</style>\n",
       "<table border=\"1\" class=\"dataframe\">\n",
       "  <thead>\n",
       "    <tr>\n",
       "      <th></th>\n",
       "      <th colspan=\"2\" halign=\"left\">chol</th>\n",
       "    </tr>\n",
       "    <tr>\n",
       "      <th>sex</th>\n",
       "      <th>F</th>\n",
       "      <th>M</th>\n",
       "    </tr>\n",
       "    <tr>\n",
       "      <th>age_bin</th>\n",
       "      <th></th>\n",
       "      <th></th>\n",
       "    </tr>\n",
       "  </thead>\n",
       "  <tbody>\n",
       "    <tr>\n",
       "      <th>(30, 40]</th>\n",
       "      <td>205.400000</td>\n",
       "      <td>224.000000</td>\n",
       "    </tr>\n",
       "    <tr>\n",
       "      <th>(40, 50]</th>\n",
       "      <td>235.136364</td>\n",
       "      <td>238.470588</td>\n",
       "    </tr>\n",
       "    <tr>\n",
       "      <th>(50, 60]</th>\n",
       "      <td>272.600000</td>\n",
       "      <td>240.750000</td>\n",
       "    </tr>\n",
       "    <tr>\n",
       "      <th>(60, 70]</th>\n",
       "      <td>286.680000</td>\n",
       "      <td>245.790698</td>\n",
       "    </tr>\n",
       "    <tr>\n",
       "      <th>(70, 80]</th>\n",
       "      <td>236.400000</td>\n",
       "      <td>304.000000</td>\n",
       "    </tr>\n",
       "  </tbody>\n",
       "</table>\n",
       "</div>"
      ],
      "text/plain": [
       "                chol            \n",
       "sex                F           M\n",
       "age_bin                         \n",
       "(30, 40]  205.400000  224.000000\n",
       "(40, 50]  235.136364  238.470588\n",
       "(50, 60]  272.600000  240.750000\n",
       "(60, 70]  286.680000  245.790698\n",
       "(70, 80]  236.400000  304.000000"
      ]
     },
     "execution_count": 43,
     "metadata": {},
     "output_type": "execute_result"
    }
   ],
   "source": [
    "table2 = pd.pivot_table(heartdf2, values = ['chol'], index=['age_bin'],columns = ['sex'], aggfunc={'chol':np.mean})\n",
    "table2"
   ]
  },
  {
   "cell_type": "code",
   "execution_count": 44,
   "metadata": {},
   "outputs": [
    {
     "name": "stdout",
     "output_type": "stream",
     "text": [
      "Average cholestrol levels for female by age groups\n"
     ]
    },
    {
     "data": {
      "text/html": [
       "<div>\n",
       "<style scoped>\n",
       "    .dataframe tbody tr th:only-of-type {\n",
       "        vertical-align: middle;\n",
       "    }\n",
       "\n",
       "    .dataframe tbody tr th {\n",
       "        vertical-align: top;\n",
       "    }\n",
       "\n",
       "    .dataframe thead th {\n",
       "        text-align: right;\n",
       "    }\n",
       "</style>\n",
       "<table border=\"1\" class=\"dataframe\">\n",
       "  <thead>\n",
       "    <tr style=\"text-align: right;\">\n",
       "      <th></th>\n",
       "      <th>chol</th>\n",
       "    </tr>\n",
       "    <tr>\n",
       "      <th>age_bin</th>\n",
       "      <th></th>\n",
       "    </tr>\n",
       "  </thead>\n",
       "  <tbody>\n",
       "    <tr>\n",
       "      <th>(30, 40]</th>\n",
       "      <td>205.400000</td>\n",
       "    </tr>\n",
       "    <tr>\n",
       "      <th>(40, 50]</th>\n",
       "      <td>235.136364</td>\n",
       "    </tr>\n",
       "    <tr>\n",
       "      <th>(50, 60]</th>\n",
       "      <td>272.600000</td>\n",
       "    </tr>\n",
       "    <tr>\n",
       "      <th>(60, 70]</th>\n",
       "      <td>286.680000</td>\n",
       "    </tr>\n",
       "    <tr>\n",
       "      <th>(70, 80]</th>\n",
       "      <td>236.400000</td>\n",
       "    </tr>\n",
       "  </tbody>\n",
       "</table>\n",
       "</div>"
      ],
      "text/plain": [
       "                chol\n",
       "age_bin             \n",
       "(30, 40]  205.400000\n",
       "(40, 50]  235.136364\n",
       "(50, 60]  272.600000\n",
       "(60, 70]  286.680000\n",
       "(70, 80]  236.400000"
      ]
     },
     "execution_count": 44,
     "metadata": {},
     "output_type": "execute_result"
    }
   ],
   "source": [
    "#pd.pivot_table(heartdf2[heartdf2.state == 4], index = 'sex', aggfunc={\"state\":len})\n",
    "print(\"Average cholestrol levels for female by age groups\")\n",
    "pd.pivot_table(heartdf2[heartdf2.sex ==\"F\"], index=['age_bin'], values=['chol'], aggfunc={'chol':np.mean})"
   ]
  },
  {
   "cell_type": "code",
   "execution_count": 45,
   "metadata": {},
   "outputs": [
    {
     "name": "stdout",
     "output_type": "stream",
     "text": [
      "Average cholestrol levels for males by age groups\n"
     ]
    },
    {
     "data": {
      "text/html": [
       "<div>\n",
       "<style scoped>\n",
       "    .dataframe tbody tr th:only-of-type {\n",
       "        vertical-align: middle;\n",
       "    }\n",
       "\n",
       "    .dataframe tbody tr th {\n",
       "        vertical-align: top;\n",
       "    }\n",
       "\n",
       "    .dataframe thead th {\n",
       "        text-align: right;\n",
       "    }\n",
       "</style>\n",
       "<table border=\"1\" class=\"dataframe\">\n",
       "  <thead>\n",
       "    <tr style=\"text-align: right;\">\n",
       "      <th></th>\n",
       "      <th>chol</th>\n",
       "    </tr>\n",
       "    <tr>\n",
       "      <th>age_bin</th>\n",
       "      <th></th>\n",
       "    </tr>\n",
       "  </thead>\n",
       "  <tbody>\n",
       "    <tr>\n",
       "      <th>(30, 40]</th>\n",
       "      <td>224.000000</td>\n",
       "    </tr>\n",
       "    <tr>\n",
       "      <th>(40, 50]</th>\n",
       "      <td>238.470588</td>\n",
       "    </tr>\n",
       "    <tr>\n",
       "      <th>(50, 60]</th>\n",
       "      <td>240.750000</td>\n",
       "    </tr>\n",
       "    <tr>\n",
       "      <th>(60, 70]</th>\n",
       "      <td>245.790698</td>\n",
       "    </tr>\n",
       "    <tr>\n",
       "      <th>(70, 80]</th>\n",
       "      <td>304.000000</td>\n",
       "    </tr>\n",
       "  </tbody>\n",
       "</table>\n",
       "</div>"
      ],
      "text/plain": [
       "                chol\n",
       "age_bin             \n",
       "(30, 40]  224.000000\n",
       "(40, 50]  238.470588\n",
       "(50, 60]  240.750000\n",
       "(60, 70]  245.790698\n",
       "(70, 80]  304.000000"
      ]
     },
     "execution_count": 45,
     "metadata": {},
     "output_type": "execute_result"
    }
   ],
   "source": [
    "print(\"Average cholestrol levels for males by age groups\")\n",
    "pd.pivot_table(heartdf2[heartdf2.sex ==\"M\"], index=['age_bin'], values=['chol'], aggfunc={'chol':np.mean})"
   ]
  },
  {
   "cell_type": "markdown",
   "metadata": {},
   "source": [
    "Across both genders, the lowest cholestrol level is seen in the individuals in the ages groups of 30-40 years old, Males are slightly higher than females. From the ages of 40 years old to 70 years old, Females have had higher cholestrol levels compared to males, with females increasing significantly from the age groups of 40-50 to 50-60, this is the biggest jump that can be observed. With the older groups of 70-80 year olds, we can observe the opposite, where the average cholestrol level for male is the highest across all age groups sitting at 304, compared to 236 for females which is a significant drop compared to females aged 60-70."
   ]
  },
  {
   "cell_type": "markdown",
   "metadata": {},
   "source": [
    "### 11. Continue from question 3. Draw two scatter plots of cholesterol level, one against blood pressure and another against heart rate. Draw them in two subplots of the same plot."
   ]
  },
  {
   "cell_type": "code",
   "execution_count": 46,
   "metadata": {},
   "outputs": [
    {
     "data": {
      "image/png": "[encoded data removed]",
      "text/plain": [
       "<Figure size 648x432 with 2 Axes>"
      ]
     },
     "metadata": {
      "needs_background": "light"
     },
     "output_type": "display_data"
    }
   ],
   "source": [
    "p, axs = plt.subplots(1,2,\n",
    "                      figsize=(9,6),\n",
    "                      sharey=True)\n",
    "# draw 2 scatter plots\n",
    "sns.regplot(data= heartdf2, x=\"trestbps\", y=\"chol\", ax=axs[0]).set(title='Cholesterol vs Blood Pressure')\n",
    "\n",
    "sns.regplot(data= heartdf2, y=\"chol\", x=\"thalach\", ax=axs[1]).set(title='Cholesterol vs Heart Rate')\n",
    "p.tight_layout()"
   ]
  },
  {
   "cell_type": "markdown",
   "metadata": {},
   "source": [
    "### 12. Visualize the cholesterol level against number of blood vessel blocked for male and female using line plot. Explain the graph base on your observation."
   ]
  },
  {
   "cell_type": "code",
   "execution_count": 47,
   "metadata": {},
   "outputs": [],
   "source": [
    "\n",
    "plt.style.use(['ggplot'])"
   ]
  },
  {
   "cell_type": "code",
   "execution_count": 48,
   "metadata": {
    "scrolled": true
   },
   "outputs": [
    {
     "data": {
      "image/png": "[encoded data removed]",
      "text/plain": [
       "<Figure size 432x288 with 1 Axes>"
      ]
     },
     "metadata": {},
     "output_type": "display_data"
    }
   ],
   "source": [
    "cbs = sns.lineplot(data=heartdf2, x='ca', y='chol',hue='sex', ci=None).set(title=\"Average cholestrol level against blocked blood vessels\")\n"
   ]
  },
  {
   "cell_type": "markdown",
   "metadata": {},
   "source": [
    "Females overall has higher average cholestrol levels compared to males, there is a gradual increase in cholesterol levels for 0-2 blocked vessels, and then with 3 blocked vessels, we see a decrease in cholestrol levels for females. This is completely the opposite for males who on average has lower cholestrol levels, but a significant spike in levels can be observed in males who has more than 2 blocked vessels."
   ]
  },
  {
   "cell_type": "markdown",
   "metadata": {},
   "source": [
    "### 13. Draw a group bar diagram of heart rate, blood pressure and total number of patients, based on age groups defined in question 9. Explain your observation from the graph."
   ]
  },
  {
   "cell_type": "code",
   "execution_count": 49,
   "metadata": {},
   "outputs": [
    {
     "data": {
      "text/html": [
       "<div>\n",
       "<style scoped>\n",
       "    .dataframe tbody tr th:only-of-type {\n",
       "        vertical-align: middle;\n",
       "    }\n",
       "\n",
       "    .dataframe tbody tr th {\n",
       "        vertical-align: top;\n",
       "    }\n",
       "\n",
       "    .dataframe thead th {\n",
       "        text-align: right;\n",
       "    }\n",
       "</style>\n",
       "<table border=\"1\" class=\"dataframe\">\n",
       "  <thead>\n",
       "    <tr style=\"text-align: right;\">\n",
       "      <th></th>\n",
       "      <th>age</th>\n",
       "      <th>sex</th>\n",
       "      <th>cp</th>\n",
       "      <th>trestbps</th>\n",
       "      <th>chol</th>\n",
       "      <th>fbs</th>\n",
       "      <th>restecg</th>\n",
       "      <th>thalach</th>\n",
       "      <th>exang</th>\n",
       "      <th>oldpeak</th>\n",
       "      <th>slope</th>\n",
       "      <th>ca</th>\n",
       "      <th>thal</th>\n",
       "      <th>state</th>\n",
       "      <th>age_bin</th>\n",
       "    </tr>\n",
       "  </thead>\n",
       "  <tbody>\n",
       "    <tr>\n",
       "      <th>0</th>\n",
       "      <td>63</td>\n",
       "      <td>M</td>\n",
       "      <td>tap</td>\n",
       "      <td>145.0</td>\n",
       "      <td>233.0</td>\n",
       "      <td>yes</td>\n",
       "      <td>2</td>\n",
       "      <td>150.0</td>\n",
       "      <td>0</td>\n",
       "      <td>2.3</td>\n",
       "      <td>3</td>\n",
       "      <td>0</td>\n",
       "      <td>6</td>\n",
       "      <td>0</td>\n",
       "      <td>(60, 70]</td>\n",
       "    </tr>\n",
       "    <tr>\n",
       "      <th>1</th>\n",
       "      <td>67</td>\n",
       "      <td>M</td>\n",
       "      <td>asp</td>\n",
       "      <td>160.0</td>\n",
       "      <td>286.0</td>\n",
       "      <td>no</td>\n",
       "      <td>2</td>\n",
       "      <td>108.0</td>\n",
       "      <td>1</td>\n",
       "      <td>1.5</td>\n",
       "      <td>2</td>\n",
       "      <td>3</td>\n",
       "      <td>3</td>\n",
       "      <td>2</td>\n",
       "      <td>(60, 70]</td>\n",
       "    </tr>\n",
       "    <tr>\n",
       "      <th>2</th>\n",
       "      <td>67</td>\n",
       "      <td>M</td>\n",
       "      <td>asp</td>\n",
       "      <td>120.0</td>\n",
       "      <td>229.0</td>\n",
       "      <td>no</td>\n",
       "      <td>2</td>\n",
       "      <td>129.0</td>\n",
       "      <td>1</td>\n",
       "      <td>2.6</td>\n",
       "      <td>2</td>\n",
       "      <td>2</td>\n",
       "      <td>7</td>\n",
       "      <td>1</td>\n",
       "      <td>(60, 70]</td>\n",
       "    </tr>\n",
       "    <tr>\n",
       "      <th>3</th>\n",
       "      <td>37</td>\n",
       "      <td>M</td>\n",
       "      <td>nap</td>\n",
       "      <td>130.0</td>\n",
       "      <td>250.0</td>\n",
       "      <td>no</td>\n",
       "      <td>0</td>\n",
       "      <td>187.0</td>\n",
       "      <td>0</td>\n",
       "      <td>3.5</td>\n",
       "      <td>3</td>\n",
       "      <td>0</td>\n",
       "      <td>3</td>\n",
       "      <td>0</td>\n",
       "      <td>(30, 40]</td>\n",
       "    </tr>\n",
       "    <tr>\n",
       "      <th>4</th>\n",
       "      <td>41</td>\n",
       "      <td>F</td>\n",
       "      <td>aap</td>\n",
       "      <td>130.0</td>\n",
       "      <td>204.0</td>\n",
       "      <td>no</td>\n",
       "      <td>2</td>\n",
       "      <td>172.0</td>\n",
       "      <td>0</td>\n",
       "      <td>1.4</td>\n",
       "      <td>1</td>\n",
       "      <td>0</td>\n",
       "      <td>3</td>\n",
       "      <td>0</td>\n",
       "      <td>(40, 50]</td>\n",
       "    </tr>\n",
       "  </tbody>\n",
       "</table>\n",
       "</div>"
      ],
      "text/plain": [
       "   age sex   cp  trestbps   chol  fbs  restecg  thalach  exang  oldpeak  \\\n",
       "0   63   M  tap     145.0  233.0  yes        2    150.0      0      2.3   \n",
       "1   67   M  asp     160.0  286.0   no        2    108.0      1      1.5   \n",
       "2   67   M  asp     120.0  229.0   no        2    129.0      1      2.6   \n",
       "3   37   M  nap     130.0  250.0   no        0    187.0      0      3.5   \n",
       "4   41   F  aap     130.0  204.0   no        2    172.0      0      1.4   \n",
       "\n",
       "   slope  ca  thal  state   age_bin  \n",
       "0      3   0     6      0  (60, 70]  \n",
       "1      2   3     3      2  (60, 70]  \n",
       "2      2   2     7      1  (60, 70]  \n",
       "3      3   0     3      0  (30, 40]  \n",
       "4      1   0     3      0  (40, 50]  "
      ]
     },
     "execution_count": 49,
     "metadata": {},
     "output_type": "execute_result"
    }
   ],
   "source": [
    "heartdf2.head()"
   ]
  },
  {
   "cell_type": "code",
   "execution_count": 50,
   "metadata": {},
   "outputs": [
    {
     "data": {
      "text/html": [
       "<div>\n",
       "<style scoped>\n",
       "    .dataframe tbody tr th:only-of-type {\n",
       "        vertical-align: middle;\n",
       "    }\n",
       "\n",
       "    .dataframe tbody tr th {\n",
       "        vertical-align: top;\n",
       "    }\n",
       "\n",
       "    .dataframe thead th {\n",
       "        text-align: right;\n",
       "    }\n",
       "</style>\n",
       "<table border=\"1\" class=\"dataframe\">\n",
       "  <thead>\n",
       "    <tr style=\"text-align: right;\">\n",
       "      <th></th>\n",
       "      <th>age_bin</th>\n",
       "      <th>Total Patients</th>\n",
       "      <th>Avg Heart Rate</th>\n",
       "      <th>Avg Blood Pressure</th>\n",
       "    </tr>\n",
       "  </thead>\n",
       "  <tbody>\n",
       "    <tr>\n",
       "      <th>0</th>\n",
       "      <td>(30, 40]</td>\n",
       "      <td>16</td>\n",
       "      <td>167.062500</td>\n",
       "      <td>125.250000</td>\n",
       "    </tr>\n",
       "    <tr>\n",
       "      <th>1</th>\n",
       "      <td>(40, 50]</td>\n",
       "      <td>73</td>\n",
       "      <td>158.726027</td>\n",
       "      <td>124.082192</td>\n",
       "    </tr>\n",
       "    <tr>\n",
       "      <th>2</th>\n",
       "      <td>(50, 60]</td>\n",
       "      <td>123</td>\n",
       "      <td>148.097561</td>\n",
       "      <td>133.845528</td>\n",
       "    </tr>\n",
       "    <tr>\n",
       "      <th>3</th>\n",
       "      <td>(60, 70]</td>\n",
       "      <td>68</td>\n",
       "      <td>137.544118</td>\n",
       "      <td>136.235294</td>\n",
       "    </tr>\n",
       "    <tr>\n",
       "      <th>4</th>\n",
       "      <td>(70, 80]</td>\n",
       "      <td>6</td>\n",
       "      <td>136.000000</td>\n",
       "      <td>127.833333</td>\n",
       "    </tr>\n",
       "  </tbody>\n",
       "</table>\n",
       "</div>"
      ],
      "text/plain": [
       "    age_bin  Total Patients  Avg Heart Rate  Avg Blood Pressure\n",
       "0  (30, 40]              16      167.062500          125.250000\n",
       "1  (40, 50]              73      158.726027          124.082192\n",
       "2  (50, 60]             123      148.097561          133.845528\n",
       "3  (60, 70]              68      137.544118          136.235294\n",
       "4  (70, 80]               6      136.000000          127.833333"
      ]
     },
     "execution_count": 50,
     "metadata": {},
     "output_type": "execute_result"
    }
   ],
   "source": [
    "df = pd.pivot_table(heartdf2, values = ['thalach', 'trestbps', 'sex'], index=['age_bin'], aggfunc={'thalach':np.mean, \n",
    "                                        'trestbps':np.mean, 'sex':len}).reset_index().rename(columns={'thalach':'Avg Heart Rate', 'trestbps': 'Avg Blood Pressure', 'sex':'Total Patients' })\n",
    "df"
   ]
  },
  {
   "cell_type": "code",
   "execution_count": 51,
   "metadata": {},
   "outputs": [
    {
     "data": {
      "image/png": "[encoded data removed]",
      "text/plain": [
       "<Figure size 648x432 with 1 Axes>"
      ]
     },
     "metadata": {},
     "output_type": "display_data"
    }
   ],
   "source": [
    "ax = df.plot(x='age_bin', y=['Total Patients', 'Avg Heart Rate', 'Avg Blood Pressure'], kind='bar', figsize=(9,6))\n",
    "\n"
   ]
  },
  {
   "cell_type": "markdown",
   "metadata": {},
   "source": [
    "From the chart above, we can observe that individuals between the ages of 30-40 years old has the higest average heart rate, and this gradually decreases as the individuals get older. With the average blood pressure, this is similar for individuals aged between 30-40 and 40-50 years old and then we see a gradual spike in blood pressure in individuals aged 50-60 & 60-70. Interestingly, the average blood pressure rate drops in individuals aged 70-80, this could perhaps be the low number of patients in that age group which has the lowest count, so the data is inconclusive and we are unable to conclude if blood pressure rates decreases in the older individuals. "
   ]
  },
  {
   "cell_type": "markdown",
   "metadata": {},
   "source": [
    "### 14. Continue from question 9. Add two more columns named [‘num_male_patients’, ‘num_female_patients’] and having values of the number of male and female patients affected by heart disease in each age group respectively. Save the combined dataset to a csv file named ‘age_group_stat.csv’ in the same directory of your code file."
   ]
  },
  {
   "cell_type": "code",
   "execution_count": 52,
   "metadata": {},
   "outputs": [],
   "source": [
    "dfpatient= heartdf2\n",
    "\n",
    "dfpatient.head()\n",
    "\n",
    "dfpatient['num_male_patients'] = np.where(dfpatient['sex'] ==\"M\", 1,0)\n",
    "dfpatient['num_female_patients'] = np.where(dfpatient['sex'] ==\"F\", 1,0)\n",
    "\n",
    "#test5.to_csv(\"test5.csv\")"
   ]
  },
  {
   "cell_type": "code",
   "execution_count": 53,
   "metadata": {},
   "outputs": [
    {
     "data": {
      "text/html": [
       "<div>\n",
       "<style scoped>\n",
       "    .dataframe tbody tr th:only-of-type {\n",
       "        vertical-align: middle;\n",
       "    }\n",
       "\n",
       "    .dataframe tbody tr th {\n",
       "        vertical-align: top;\n",
       "    }\n",
       "\n",
       "    .dataframe thead th {\n",
       "        text-align: right;\n",
       "    }\n",
       "</style>\n",
       "<table border=\"1\" class=\"dataframe\">\n",
       "  <thead>\n",
       "    <tr style=\"text-align: right;\">\n",
       "      <th></th>\n",
       "      <th>chol</th>\n",
       "      <th>num_female_patients</th>\n",
       "      <th>num_male_patients</th>\n",
       "      <th>thalach</th>\n",
       "      <th>trestbps</th>\n",
       "    </tr>\n",
       "    <tr>\n",
       "      <th>age_bin</th>\n",
       "      <th></th>\n",
       "      <th></th>\n",
       "      <th></th>\n",
       "      <th></th>\n",
       "      <th></th>\n",
       "    </tr>\n",
       "  </thead>\n",
       "  <tbody>\n",
       "    <tr>\n",
       "      <th>(30, 40]</th>\n",
       "      <td>218.187500</td>\n",
       "      <td>5</td>\n",
       "      <td>11</td>\n",
       "      <td>167.062500</td>\n",
       "      <td>125.250000</td>\n",
       "    </tr>\n",
       "    <tr>\n",
       "      <th>(40, 50]</th>\n",
       "      <td>237.465753</td>\n",
       "      <td>22</td>\n",
       "      <td>51</td>\n",
       "      <td>158.726027</td>\n",
       "      <td>124.082192</td>\n",
       "    </tr>\n",
       "    <tr>\n",
       "      <th>(50, 60]</th>\n",
       "      <td>249.813008</td>\n",
       "      <td>35</td>\n",
       "      <td>88</td>\n",
       "      <td>148.097561</td>\n",
       "      <td>133.845528</td>\n",
       "    </tr>\n",
       "    <tr>\n",
       "      <th>(60, 70]</th>\n",
       "      <td>260.823529</td>\n",
       "      <td>25</td>\n",
       "      <td>43</td>\n",
       "      <td>137.544118</td>\n",
       "      <td>136.235294</td>\n",
       "    </tr>\n",
       "    <tr>\n",
       "      <th>(70, 80]</th>\n",
       "      <td>247.666667</td>\n",
       "      <td>5</td>\n",
       "      <td>1</td>\n",
       "      <td>136.000000</td>\n",
       "      <td>127.833333</td>\n",
       "    </tr>\n",
       "  </tbody>\n",
       "</table>\n",
       "</div>"
      ],
      "text/plain": [
       "                chol  num_female_patients  num_male_patients     thalach  \\\n",
       "age_bin                                                                    \n",
       "(30, 40]  218.187500                    5                 11  167.062500   \n",
       "(40, 50]  237.465753                   22                 51  158.726027   \n",
       "(50, 60]  249.813008                   35                 88  148.097561   \n",
       "(60, 70]  260.823529                   25                 43  137.544118   \n",
       "(70, 80]  247.666667                    5                  1  136.000000   \n",
       "\n",
       "            trestbps  \n",
       "age_bin               \n",
       "(30, 40]  125.250000  \n",
       "(40, 50]  124.082192  \n",
       "(50, 60]  133.845528  \n",
       "(60, 70]  136.235294  \n",
       "(70, 80]  127.833333  "
      ]
     },
     "execution_count": 53,
     "metadata": {},
     "output_type": "execute_result"
    }
   ],
   "source": [
    "agegroupstat = pd.pivot_table(dfpatient, values = ['thalach', 'trestbps', 'chol','num_male_patients','num_female_patients'  ], \n",
    "            index=['age_bin'], aggfunc={'thalach':np.mean, 'trestbps':np.mean, 'chol':np.mean,'num_male_patients':np.sum,'num_female_patients':np.sum})\n",
    "\n",
    "agegroupstat"
   ]
  },
  {
   "cell_type": "code",
   "execution_count": 54,
   "metadata": {},
   "outputs": [],
   "source": [
    "agegroupstat.to_csv(\"age_group_stat.csv\")"
   ]
  },
  {
   "cell_type": "markdown",
   "metadata": {},
   "source": [
    "### 15. Continue from question 1. Replace all the rows where the ‘state’ is null with its immediate previous row. Finally, display and save the resultant dataset to a csv file named ‘clean_data.csv’ in the same directory of your code file."
   ]
  },
  {
   "cell_type": "markdown",
   "metadata": {},
   "source": [
    "Using the main dataset rather than the dataset in question 1 where we have filtered to only include observations diagnosed\n",
    "by a cardiologist, which would mean the dataframe will not have any null values for the variable state"
   ]
  },
  {
   "cell_type": "code",
   "execution_count": 55,
   "metadata": {},
   "outputs": [],
   "source": [
    "statedf = heartdf\n",
    "#remove rows where all features are null\n",
    "statedf = statedf.dropna(how='all')"
   ]
  },
  {
   "cell_type": "code",
   "execution_count": 56,
   "metadata": {},
   "outputs": [
    {
     "name": "stdout",
     "output_type": "stream",
     "text": [
      "age         0\n",
      "sex         0\n",
      "cp          3\n",
      "trestbps    0\n",
      "chol        2\n",
      "fbs         0\n",
      "restecg     0\n",
      "thalach     4\n",
      "exang       0\n",
      "oldpeak     0\n",
      "slope       0\n",
      "ca          4\n",
      "thal        0\n",
      "state       2\n",
      "dtype: int64\n"
     ]
    }
   ],
   "source": [
    "print(statedf.isnull().sum())"
   ]
  },
  {
   "cell_type": "code",
   "execution_count": 57,
   "metadata": {
    "scrolled": true
   },
   "outputs": [
    {
     "data": {
      "text/html": [
       "<div>\n",
       "<style scoped>\n",
       "    .dataframe tbody tr th:only-of-type {\n",
       "        vertical-align: middle;\n",
       "    }\n",
       "\n",
       "    .dataframe tbody tr th {\n",
       "        vertical-align: top;\n",
       "    }\n",
       "\n",
       "    .dataframe thead th {\n",
       "        text-align: right;\n",
       "    }\n",
       "</style>\n",
       "<table border=\"1\" class=\"dataframe\">\n",
       "  <thead>\n",
       "    <tr style=\"text-align: right;\">\n",
       "      <th></th>\n",
       "      <th>age</th>\n",
       "      <th>sex</th>\n",
       "      <th>cp</th>\n",
       "      <th>trestbps</th>\n",
       "      <th>chol</th>\n",
       "      <th>fbs</th>\n",
       "      <th>restecg</th>\n",
       "      <th>thalach</th>\n",
       "      <th>exang</th>\n",
       "      <th>oldpeak</th>\n",
       "      <th>slope</th>\n",
       "      <th>ca</th>\n",
       "      <th>thal</th>\n",
       "      <th>state</th>\n",
       "    </tr>\n",
       "  </thead>\n",
       "  <tbody>\n",
       "    <tr>\n",
       "      <th>6</th>\n",
       "      <td>62.0</td>\n",
       "      <td>F</td>\n",
       "      <td>NaN</td>\n",
       "      <td>140.0</td>\n",
       "      <td>268.0</td>\n",
       "      <td>no</td>\n",
       "      <td>2.0</td>\n",
       "      <td>160.0</td>\n",
       "      <td>0.0</td>\n",
       "      <td>3.6</td>\n",
       "      <td>3.0</td>\n",
       "      <td>2.0</td>\n",
       "      <td>3.0</td>\n",
       "      <td>3.0</td>\n",
       "    </tr>\n",
       "    <tr>\n",
       "      <th>67</th>\n",
       "      <td>54.0</td>\n",
       "      <td>M</td>\n",
       "      <td>nap</td>\n",
       "      <td>150.0</td>\n",
       "      <td>232.0</td>\n",
       "      <td>no</td>\n",
       "      <td>2.0</td>\n",
       "      <td>165.0</td>\n",
       "      <td>0.0</td>\n",
       "      <td>1.6</td>\n",
       "      <td>1.0</td>\n",
       "      <td>0.0</td>\n",
       "      <td>7.0</td>\n",
       "      <td>NaN</td>\n",
       "    </tr>\n",
       "    <tr>\n",
       "      <th>115</th>\n",
       "      <td>41.0</td>\n",
       "      <td>M</td>\n",
       "      <td>NaN</td>\n",
       "      <td>135.0</td>\n",
       "      <td>NaN</td>\n",
       "      <td>no</td>\n",
       "      <td>0.0</td>\n",
       "      <td>NaN</td>\n",
       "      <td>0.0</td>\n",
       "      <td>0.0</td>\n",
       "      <td>2.0</td>\n",
       "      <td>NaN</td>\n",
       "      <td>6.0</td>\n",
       "      <td>0.0</td>\n",
       "    </tr>\n",
       "    <tr>\n",
       "      <th>116</th>\n",
       "      <td>58.0</td>\n",
       "      <td>M</td>\n",
       "      <td>nap</td>\n",
       "      <td>140.0</td>\n",
       "      <td>211.0</td>\n",
       "      <td>yes</td>\n",
       "      <td>2.0</td>\n",
       "      <td>NaN</td>\n",
       "      <td>0.0</td>\n",
       "      <td>0.0</td>\n",
       "      <td>1.0</td>\n",
       "      <td>0.0</td>\n",
       "      <td>3.0</td>\n",
       "      <td>0.0</td>\n",
       "    </tr>\n",
       "    <tr>\n",
       "      <th>132</th>\n",
       "      <td>29.0</td>\n",
       "      <td>M</td>\n",
       "      <td>NaN</td>\n",
       "      <td>130.0</td>\n",
       "      <td>204.0</td>\n",
       "      <td>no</td>\n",
       "      <td>2.0</td>\n",
       "      <td>202.0</td>\n",
       "      <td>0.0</td>\n",
       "      <td>0.0</td>\n",
       "      <td>1.0</td>\n",
       "      <td>0.0</td>\n",
       "      <td>3.0</td>\n",
       "      <td>0.0</td>\n",
       "    </tr>\n",
       "    <tr>\n",
       "      <th>165</th>\n",
       "      <td>57.0</td>\n",
       "      <td>M</td>\n",
       "      <td>asp</td>\n",
       "      <td>132.0</td>\n",
       "      <td>207.0</td>\n",
       "      <td>no</td>\n",
       "      <td>0.0</td>\n",
       "      <td>168.0</td>\n",
       "      <td>1.0</td>\n",
       "      <td>0.0</td>\n",
       "      <td>1.0</td>\n",
       "      <td>NaN</td>\n",
       "      <td>7.0</td>\n",
       "      <td>NaN</td>\n",
       "    </tr>\n",
       "    <tr>\n",
       "      <th>218</th>\n",
       "      <td>64.0</td>\n",
       "      <td>F</td>\n",
       "      <td>asp</td>\n",
       "      <td>130.0</td>\n",
       "      <td>303.0</td>\n",
       "      <td>no</td>\n",
       "      <td>0.0</td>\n",
       "      <td>NaN</td>\n",
       "      <td>0.0</td>\n",
       "      <td>2.0</td>\n",
       "      <td>2.0</td>\n",
       "      <td>2.0</td>\n",
       "      <td>3.0</td>\n",
       "      <td>0.0</td>\n",
       "    </tr>\n",
       "    <tr>\n",
       "      <th>223</th>\n",
       "      <td>53.0</td>\n",
       "      <td>M</td>\n",
       "      <td>asp</td>\n",
       "      <td>123.0</td>\n",
       "      <td>282.0</td>\n",
       "      <td>no</td>\n",
       "      <td>0.0</td>\n",
       "      <td>95.0</td>\n",
       "      <td>1.0</td>\n",
       "      <td>2.0</td>\n",
       "      <td>2.0</td>\n",
       "      <td>NaN</td>\n",
       "      <td>7.0</td>\n",
       "      <td>3.0</td>\n",
       "    </tr>\n",
       "    <tr>\n",
       "      <th>228</th>\n",
       "      <td>54.0</td>\n",
       "      <td>M</td>\n",
       "      <td>asp</td>\n",
       "      <td>110.0</td>\n",
       "      <td>NaN</td>\n",
       "      <td>no</td>\n",
       "      <td>2.0</td>\n",
       "      <td>108.0</td>\n",
       "      <td>1.0</td>\n",
       "      <td>0.0</td>\n",
       "      <td>2.0</td>\n",
       "      <td>1.0</td>\n",
       "      <td>3.0</td>\n",
       "      <td>3.0</td>\n",
       "    </tr>\n",
       "    <tr>\n",
       "      <th>290</th>\n",
       "      <td>67.0</td>\n",
       "      <td>M</td>\n",
       "      <td>nap</td>\n",
       "      <td>152.0</td>\n",
       "      <td>212.0</td>\n",
       "      <td>no</td>\n",
       "      <td>2.0</td>\n",
       "      <td>NaN</td>\n",
       "      <td>0.0</td>\n",
       "      <td>0.8</td>\n",
       "      <td>2.0</td>\n",
       "      <td>0.0</td>\n",
       "      <td>7.0</td>\n",
       "      <td>1.0</td>\n",
       "    </tr>\n",
       "    <tr>\n",
       "      <th>302</th>\n",
       "      <td>38.0</td>\n",
       "      <td>M</td>\n",
       "      <td>nap</td>\n",
       "      <td>138.0</td>\n",
       "      <td>175.0</td>\n",
       "      <td>no</td>\n",
       "      <td>0.0</td>\n",
       "      <td>173.0</td>\n",
       "      <td>0.0</td>\n",
       "      <td>0.0</td>\n",
       "      <td>1.0</td>\n",
       "      <td>NaN</td>\n",
       "      <td>3.0</td>\n",
       "      <td>0.0</td>\n",
       "    </tr>\n",
       "  </tbody>\n",
       "</table>\n",
       "</div>"
      ],
      "text/plain": [
       "      age sex   cp  trestbps   chol  fbs  restecg  thalach  exang  oldpeak  \\\n",
       "6    62.0   F  NaN     140.0  268.0   no      2.0    160.0    0.0      3.6   \n",
       "67   54.0   M  nap     150.0  232.0   no      2.0    165.0    0.0      1.6   \n",
       "115  41.0   M  NaN     135.0    NaN   no      0.0      NaN    0.0      0.0   \n",
       "116  58.0   M  nap     140.0  211.0  yes      2.0      NaN    0.0      0.0   \n",
       "132  29.0   M  NaN     130.0  204.0   no      2.0    202.0    0.0      0.0   \n",
       "165  57.0   M  asp     132.0  207.0   no      0.0    168.0    1.0      0.0   \n",
       "218  64.0   F  asp     130.0  303.0   no      0.0      NaN    0.0      2.0   \n",
       "223  53.0   M  asp     123.0  282.0   no      0.0     95.0    1.0      2.0   \n",
       "228  54.0   M  asp     110.0    NaN   no      2.0    108.0    1.0      0.0   \n",
       "290  67.0   M  nap     152.0  212.0   no      2.0      NaN    0.0      0.8   \n",
       "302  38.0   M  nap     138.0  175.0   no      0.0    173.0    0.0      0.0   \n",
       "\n",
       "     slope   ca  thal  state  \n",
       "6      3.0  2.0   3.0    3.0  \n",
       "67     1.0  0.0   7.0    NaN  \n",
       "115    2.0  NaN   6.0    0.0  \n",
       "116    1.0  0.0   3.0    0.0  \n",
       "132    1.0  0.0   3.0    0.0  \n",
       "165    1.0  NaN   7.0    NaN  \n",
       "218    2.0  2.0   3.0    0.0  \n",
       "223    2.0  NaN   7.0    3.0  \n",
       "228    2.0  1.0   3.0    3.0  \n",
       "290    2.0  0.0   7.0    1.0  \n",
       "302    1.0  NaN   3.0    0.0  "
      ]
     },
     "execution_count": 57,
     "metadata": {},
     "output_type": "execute_result"
    }
   ],
   "source": [
    "statedf[statedf.isnull().any(axis=1)] "
   ]
  },
  {
   "cell_type": "code",
   "execution_count": 58,
   "metadata": {},
   "outputs": [],
   "source": [
    "#fill missing value in state with the previous rows state value\n",
    "statedf['state'].fillna(method = 'ffill',inplace=True)"
   ]
  },
  {
   "cell_type": "code",
   "execution_count": 59,
   "metadata": {},
   "outputs": [],
   "source": [
    "statedf.to_csv('clean_data.csv', index = False)"
   ]
  }
 ],
 "metadata": {
  "kernelspec": {
   "display_name": "Python 3",
   "language": "python",
   "name": "python3"
  },
  "language_info": {
   "codemirror_mode": {
    "name": "ipython",
    "version": 3
   },
   "file_extension": ".py",
   "mimetype": "text/x-python",
   "name": "python",
   "nbconvert_exporter": "python",
   "pygments_lexer": "ipython3",
   "version": "3.8.8"
  }
 },
 "nbformat": 4,
 "nbformat_minor": 4
}
